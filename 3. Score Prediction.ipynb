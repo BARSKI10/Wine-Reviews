{
 "cells": [
  {
   "cell_type": "markdown",
   "id": "0a3083b3-2207-4222-8120-2d0e144e6559",
   "metadata": {},
   "source": [
    "# Wine Reviews | Score Prediction"
   ]
  },
  {
   "cell_type": "markdown",
   "id": "b24503c3-cb20-4fe2-9078-bd1fbaf2c26c",
   "metadata": {
    "jupyter": {
     "source_hidden": true
    },
    "tags": []
   },
   "source": [
    "## Abstract"
   ]
  },
  {
   "cell_type": "markdown",
   "id": "7eac5b4c-ac67-4270-ab7e-9c0fc6fafc7e",
   "metadata": {
    "jupyter": {
     "source_hidden": true
    },
    "tags": []
   },
   "source": [
    "We are trying to predict the wine score by numeic, categorical, and text features. We will execute  "
   ]
  },
  {
   "cell_type": "code",
   "execution_count": 1,
   "id": "aa73c1d3-7eed-4068-9e73-6c3924dcb787",
   "metadata": {},
   "outputs": [],
   "source": [
    "%load_ext autoreload\n",
    "%autoreload 2"
   ]
  },
  {
   "cell_type": "code",
   "execution_count": null,
   "id": "ee212480-61ec-458a-83f3-9598e5e5f493",
   "metadata": {},
   "outputs": [
    {
     "data": {
      "text/html": [
       "        <script type=\"text/javascript\">\n",
       "        window.PlotlyConfig = {MathJaxConfig: 'local'};\n",
       "        if (window.MathJax) {MathJax.Hub.Config({SVG: {font: \"STIX-Web\"}});}\n",
       "        if (typeof require !== 'undefined') {\n",
       "        require.undef(\"plotly\");\n",
       "        requirejs.config({\n",
       "            paths: {\n",
       "                'plotly': ['https://cdn.plot.ly/plotly-2.9.0.min']\n",
       "            }\n",
       "        });\n",
       "        require(['plotly'], function(Plotly) {\n",
       "            window._Plotly = Plotly;\n",
       "        });\n",
       "        }\n",
       "        </script>\n",
       "        "
      ]
     },
     "metadata": {},
     "output_type": "display_data"
    }
   ],
   "source": [
    "import pandas as pd\n",
    "import cufflinks as cf; cf.go_offline()"
   ]
  },
  {
   "cell_type": "markdown",
   "id": "dffb85df-7138-47b3-8fdf-d0545f45da0c",
   "metadata": {},
   "source": [
    "## Results"
   ]
  },
  {
   "cell_type": "code",
   "execution_count": 161,
   "id": "ffcd46a0-6438-4a24-b2a4-e17ce76e3a86",
   "metadata": {},
   "outputs": [
    {
     "data": {
      "text/html": [
       "<div>\n",
       "<style scoped>\n",
       "    .dataframe tbody tr th:only-of-type {\n",
       "        vertical-align: middle;\n",
       "    }\n",
       "\n",
       "    .dataframe tbody tr th {\n",
       "        vertical-align: top;\n",
       "    }\n",
       "\n",
       "    .dataframe thead th {\n",
       "        text-align: right;\n",
       "    }\n",
       "</style>\n",
       "<table border=\"1\" class=\"dataframe\">\n",
       "  <thead>\n",
       "    <tr style=\"text-align: right;\">\n",
       "      <th></th>\n",
       "      <th>MSE</th>\n",
       "      <th>MAE</th>\n",
       "      <th>R2</th>\n",
       "    </tr>\n",
       "  </thead>\n",
       "  <tbody>\n",
       "    <tr>\n",
       "      <th>expanded_bow_ridge_reg_pred</th>\n",
       "      <td>2.887676</td>\n",
       "      <td>1.328582</td>\n",
       "      <td>0.697399</td>\n",
       "    </tr>\n",
       "    <tr>\n",
       "      <th>expanded_bow_linear_reg</th>\n",
       "      <td>2.912889</td>\n",
       "      <td>1.334171</td>\n",
       "      <td>0.694757</td>\n",
       "    </tr>\n",
       "    <tr>\n",
       "      <th>bow_linear_reg_score</th>\n",
       "      <td>3.070415</td>\n",
       "      <td>1.373518</td>\n",
       "      <td>0.678249</td>\n",
       "    </tr>\n",
       "    <tr>\n",
       "      <th>embedding_pred_score</th>\n",
       "      <td>3.778059</td>\n",
       "      <td>1.527535</td>\n",
       "      <td>0.604095</td>\n",
       "    </tr>\n",
       "    <tr>\n",
       "      <th>external_embd_model</th>\n",
       "      <td>4.853125</td>\n",
       "      <td>1.743101</td>\n",
       "      <td>0.491438</td>\n",
       "    </tr>\n",
       "    <tr>\n",
       "      <th>gbc_clf_score</th>\n",
       "      <td>6.329152</td>\n",
       "      <td>1.908034</td>\n",
       "      <td>0.336764</td>\n",
       "    </tr>\n",
       "    <tr>\n",
       "      <th>baseline_3_score</th>\n",
       "      <td>8.491592</td>\n",
       "      <td>2.363831</td>\n",
       "      <td>0.110161</td>\n",
       "    </tr>\n",
       "    <tr>\n",
       "      <th>baseline_2_score</th>\n",
       "      <td>9.037190</td>\n",
       "      <td>2.459464</td>\n",
       "      <td>0.052987</td>\n",
       "    </tr>\n",
       "    <tr>\n",
       "      <th>baseline_1_score</th>\n",
       "      <td>9.542911</td>\n",
       "      <td>2.532531</td>\n",
       "      <td>-0.000007</td>\n",
       "    </tr>\n",
       "    <tr>\n",
       "      <th>dnn_pred</th>\n",
       "      <td>26.000381</td>\n",
       "      <td>3.887531</td>\n",
       "      <td>-1.724596</td>\n",
       "    </tr>\n",
       "    <tr>\n",
       "      <th>dnn_pred</th>\n",
       "      <td>158.636274</td>\n",
       "      <td>10.176998</td>\n",
       "      <td>-15.623592</td>\n",
       "    </tr>\n",
       "  </tbody>\n",
       "</table>\n",
       "</div>"
      ],
      "text/plain": [
       "                                    MSE        MAE         R2\n",
       "expanded_bow_ridge_reg_pred    2.887676   1.328582   0.697399\n",
       "expanded_bow_linear_reg        2.912889   1.334171   0.694757\n",
       "bow_linear_reg_score           3.070415   1.373518   0.678249\n",
       "embedding_pred_score           3.778059   1.527535   0.604095\n",
       "external_embd_model            4.853125   1.743101   0.491438\n",
       "gbc_clf_score                  6.329152   1.908034   0.336764\n",
       "baseline_3_score               8.491592   2.363831   0.110161\n",
       "baseline_2_score               9.037190   2.459464   0.052987\n",
       "baseline_1_score               9.542911   2.532531  -0.000007\n",
       "dnn_pred                      26.000381   3.887531  -1.724596\n",
       "dnn_pred                     158.636274  10.176998 -15.623592"
      ]
     },
     "execution_count": 161,
     "metadata": {},
     "output_type": "execute_result"
    }
   ],
   "source": [
    "results = pd.read_csv('data/all_models_compared.csv', index_col = 'Unnamed: 0')\n",
    "results"
   ]
  },
  {
   "cell_type": "markdown",
   "id": "0f909955-931a-41e8-873b-315e16adb704",
   "metadata": {},
   "source": [
    "## Data loading\n",
    "Loading the original dataset without duplications."
   ]
  },
  {
   "cell_type": "code",
   "execution_count": 3,
   "id": "7954dbb8-2eef-4bc9-9813-5e88bf1d2a7a",
   "metadata": {},
   "outputs": [
    {
     "data": {
      "text/html": [
       "<div>\n",
       "<style scoped>\n",
       "    .dataframe tbody tr th:only-of-type {\n",
       "        vertical-align: middle;\n",
       "    }\n",
       "\n",
       "    .dataframe tbody tr th {\n",
       "        vertical-align: top;\n",
       "    }\n",
       "\n",
       "    .dataframe thead th {\n",
       "        text-align: right;\n",
       "    }\n",
       "</style>\n",
       "<table border=\"1\" class=\"dataframe\">\n",
       "  <thead>\n",
       "    <tr style=\"text-align: right;\">\n",
       "      <th></th>\n",
       "      <th>country</th>\n",
       "      <th>description</th>\n",
       "      <th>designation</th>\n",
       "      <th>points</th>\n",
       "      <th>price</th>\n",
       "      <th>province</th>\n",
       "      <th>region_1</th>\n",
       "      <th>region_2</th>\n",
       "      <th>taster_name</th>\n",
       "      <th>taster_twitter_handle</th>\n",
       "      <th>title</th>\n",
       "      <th>variety</th>\n",
       "      <th>winery</th>\n",
       "    </tr>\n",
       "  </thead>\n",
       "  <tbody>\n",
       "    <tr>\n",
       "      <th>0</th>\n",
       "      <td>Italy</td>\n",
       "      <td>Aromas include tropical fruit, broom, brimston...</td>\n",
       "      <td>Vulkà Bianco</td>\n",
       "      <td>87</td>\n",
       "      <td>NaN</td>\n",
       "      <td>Sicily &amp; Sardinia</td>\n",
       "      <td>Etna</td>\n",
       "      <td>NaN</td>\n",
       "      <td>Kerin O’Keefe</td>\n",
       "      <td>@kerinokeefe</td>\n",
       "      <td>Nicosia 2013 Vulkà Bianco  (Etna)</td>\n",
       "      <td>White Blend</td>\n",
       "      <td>Nicosia</td>\n",
       "    </tr>\n",
       "    <tr>\n",
       "      <th>1</th>\n",
       "      <td>Portugal</td>\n",
       "      <td>This is ripe and fruity, a wine that is smooth...</td>\n",
       "      <td>Avidagos</td>\n",
       "      <td>87</td>\n",
       "      <td>15.0</td>\n",
       "      <td>Douro</td>\n",
       "      <td>NaN</td>\n",
       "      <td>NaN</td>\n",
       "      <td>Roger Voss</td>\n",
       "      <td>@vossroger</td>\n",
       "      <td>Quinta dos Avidagos 2011 Avidagos Red (Douro)</td>\n",
       "      <td>Portuguese Red</td>\n",
       "      <td>Quinta dos Avidagos</td>\n",
       "    </tr>\n",
       "    <tr>\n",
       "      <th>2</th>\n",
       "      <td>US</td>\n",
       "      <td>Tart and snappy, the flavors of lime flesh and...</td>\n",
       "      <td>NaN</td>\n",
       "      <td>87</td>\n",
       "      <td>14.0</td>\n",
       "      <td>Oregon</td>\n",
       "      <td>Willamette Valley</td>\n",
       "      <td>Willamette Valley</td>\n",
       "      <td>Paul Gregutt</td>\n",
       "      <td>@paulgwine</td>\n",
       "      <td>Rainstorm 2013 Pinot Gris (Willamette Valley)</td>\n",
       "      <td>Pinot Gris</td>\n",
       "      <td>Rainstorm</td>\n",
       "    </tr>\n",
       "    <tr>\n",
       "      <th>3</th>\n",
       "      <td>US</td>\n",
       "      <td>Pineapple rind, lemon pith and orange blossom ...</td>\n",
       "      <td>Reserve Late Harvest</td>\n",
       "      <td>87</td>\n",
       "      <td>13.0</td>\n",
       "      <td>Michigan</td>\n",
       "      <td>Lake Michigan Shore</td>\n",
       "      <td>NaN</td>\n",
       "      <td>Alexander Peartree</td>\n",
       "      <td>NaN</td>\n",
       "      <td>St. Julian 2013 Reserve Late Harvest Riesling ...</td>\n",
       "      <td>Riesling</td>\n",
       "      <td>St. Julian</td>\n",
       "    </tr>\n",
       "    <tr>\n",
       "      <th>4</th>\n",
       "      <td>US</td>\n",
       "      <td>Much like the regular bottling from 2012, this...</td>\n",
       "      <td>Vintner's Reserve Wild Child Block</td>\n",
       "      <td>87</td>\n",
       "      <td>65.0</td>\n",
       "      <td>Oregon</td>\n",
       "      <td>Willamette Valley</td>\n",
       "      <td>Willamette Valley</td>\n",
       "      <td>Paul Gregutt</td>\n",
       "      <td>@paulgwine</td>\n",
       "      <td>Sweet Cheeks 2012 Vintner's Reserve Wild Child...</td>\n",
       "      <td>Pinot Noir</td>\n",
       "      <td>Sweet Cheeks</td>\n",
       "    </tr>\n",
       "  </tbody>\n",
       "</table>\n",
       "</div>"
      ],
      "text/plain": [
       "    country                                        description  \\\n",
       "0     Italy  Aromas include tropical fruit, broom, brimston...   \n",
       "1  Portugal  This is ripe and fruity, a wine that is smooth...   \n",
       "2        US  Tart and snappy, the flavors of lime flesh and...   \n",
       "3        US  Pineapple rind, lemon pith and orange blossom ...   \n",
       "4        US  Much like the regular bottling from 2012, this...   \n",
       "\n",
       "                          designation  points  price           province  \\\n",
       "0                        Vulkà Bianco      87    NaN  Sicily & Sardinia   \n",
       "1                            Avidagos      87   15.0              Douro   \n",
       "2                                 NaN      87   14.0             Oregon   \n",
       "3                Reserve Late Harvest      87   13.0           Michigan   \n",
       "4  Vintner's Reserve Wild Child Block      87   65.0             Oregon   \n",
       "\n",
       "              region_1           region_2         taster_name  \\\n",
       "0                 Etna                NaN       Kerin O’Keefe   \n",
       "1                  NaN                NaN          Roger Voss   \n",
       "2    Willamette Valley  Willamette Valley        Paul Gregutt   \n",
       "3  Lake Michigan Shore                NaN  Alexander Peartree   \n",
       "4    Willamette Valley  Willamette Valley        Paul Gregutt   \n",
       "\n",
       "  taster_twitter_handle                                              title  \\\n",
       "0          @kerinokeefe                  Nicosia 2013 Vulkà Bianco  (Etna)   \n",
       "1            @vossroger      Quinta dos Avidagos 2011 Avidagos Red (Douro)   \n",
       "2           @paulgwine       Rainstorm 2013 Pinot Gris (Willamette Valley)   \n",
       "3                   NaN  St. Julian 2013 Reserve Late Harvest Riesling ...   \n",
       "4           @paulgwine   Sweet Cheeks 2012 Vintner's Reserve Wild Child...   \n",
       "\n",
       "          variety               winery  \n",
       "0     White Blend              Nicosia  \n",
       "1  Portuguese Red  Quinta dos Avidagos  \n",
       "2      Pinot Gris            Rainstorm  \n",
       "3        Riesling           St. Julian  \n",
       "4      Pinot Noir         Sweet Cheeks  "
      ]
     },
     "execution_count": 3,
     "metadata": {},
     "output_type": "execute_result"
    }
   ],
   "source": [
    "wine_review = pd.read_csv('data/winemag-data-130k-v2-duplicate_free.csv', index_col = 'Unnamed: 0')\n",
    "wine_review.head()"
   ]
  },
  {
   "cell_type": "markdown",
   "id": "18f016c5-6eb4-4bca-bd81-81f77b764d4e",
   "metadata": {},
   "source": [
    "## Problem Description\n",
    "We wish to provide a prediction of the wine review score - **Regression problem**."
   ]
  },
  {
   "cell_type": "markdown",
   "id": "cc171a5b-0440-4409-b081-66b561250eb9",
   "metadata": {
    "tags": []
   },
   "source": [
    "## Metrics\n",
    "We are dealing with a prediction (Regression) problem. Therefore, in this paper, we will use three (3) measure metrics:<br>\n",
    "Mean score error (**MSE**).<br>\n",
    "R Square (**R2**).<br>\n",
    "Mean Absolut Error (**MAE**)."
   ]
  },
  {
   "cell_type": "code",
   "execution_count": 4,
   "id": "9be7d16d-447b-497e-b679-1e94ca305a34",
   "metadata": {},
   "outputs": [],
   "source": [
    "from src.my_fuctions import calc_prediction_quality"
   ]
  },
  {
   "cell_type": "markdown",
   "id": "d5018f13-b2a7-4363-b0e2-8e45dd1c4074",
   "metadata": {},
   "source": [
    "## Train and Test Split\n",
    "Spliting the dataset to Train and Test by 80/20."
   ]
  },
  {
   "cell_type": "code",
   "execution_count": 5,
   "id": "6cbd93ca-9e6d-4747-b634-f3e8e22f8b46",
   "metadata": {},
   "outputs": [],
   "source": [
    "train_indexes = wine_review.sample(frac = 0.8).index\n",
    "test_indexes = wine_review[~wine_review.index.isin(train_indexes)].index\n",
    "assert wine_review.index.all() == test_indexes.append(train_indexes).all()"
   ]
  },
  {
   "cell_type": "code",
   "execution_count": 6,
   "id": "c739492e-ed6f-4a31-9d50-3784211808a4",
   "metadata": {},
   "outputs": [],
   "source": [
    "train_data = wine_review.loc[train_indexes]\n",
    "test_data = wine_review.loc[test_indexes]\n",
    "assert len(wine_review) == len(train_data) + len(test_data)"
   ]
  },
  {
   "cell_type": "markdown",
   "id": "8767206e-ce4f-4f10-9118-ad1a14e8f13b",
   "metadata": {
    "tags": []
   },
   "source": [
    "## 1) Baselines"
   ]
  },
  {
   "cell_type": "markdown",
   "id": "b70aa109-b85a-49a6-86c9-b87f8636ed45",
   "metadata": {
    "tags": [],
    "toc-hr-collapsed": true
   },
   "source": [
    "### 1.1) Baseline 1 | Average\n",
    "The basic baseline is the Average points."
   ]
  },
  {
   "cell_type": "code",
   "execution_count": 7,
   "id": "1403b3fc-1d9c-418a-ac70-4876111650f3",
   "metadata": {
    "tags": []
   },
   "outputs": [
    {
     "data": {
      "text/plain": [
       "MSE    9.542911\n",
       "MAE    2.532531\n",
       "R2    -0.000007\n",
       "dtype: float64"
      ]
     },
     "execution_count": 7,
     "metadata": {},
     "output_type": "execute_result"
    }
   ],
   "source": [
    "test_data['baseline_1_predicted_points'] = train_data.points.mean()\n",
    "baseline_1_score = calc_prediction_quality(test_data, 'points', 'baseline_1_predicted_points')\n",
    "baseline_1_score"
   ]
  },
  {
   "cell_type": "markdown",
   "id": "5e2982d1-d60a-4afc-962b-33f4ba0abaee",
   "metadata": {
    "tags": []
   },
   "source": [
    "### 1.2) Baseline 2 | Average by Country"
   ]
  },
  {
   "cell_type": "code",
   "execution_count": 8,
   "id": "937f8603-8024-42be-9da5-078d0fee238f",
   "metadata": {
    "tags": []
   },
   "outputs": [
    {
     "data": {
      "text/plain": [
       "country\n",
       "Argentina                 86.664430\n",
       "Armenia                   87.500000\n",
       "Australia                 88.552256\n",
       "Austria                   90.151067\n",
       "Bosnia and Herzegovina    86.500000\n",
       "Name: points, dtype: float64"
      ]
     },
     "execution_count": 8,
     "metadata": {},
     "output_type": "execute_result"
    }
   ],
   "source": [
    "avg_points_by_country = train_data.groupby(['country']).points.mean()\n",
    "avg_points_by_country.head()"
   ]
  },
  {
   "cell_type": "code",
   "execution_count": 9,
   "id": "0139379c-64a5-44e7-b4ec-33edf0921a4c",
   "metadata": {
    "tags": []
   },
   "outputs": [
    {
     "data": {
      "text/plain": [
       "MSE    9.037190\n",
       "MAE    2.459464\n",
       "R2     0.052987\n",
       "dtype: float64"
      ]
     },
     "execution_count": 9,
     "metadata": {},
     "output_type": "execute_result"
    }
   ],
   "source": [
    "test_data['baseline_2_predicted_points'] = test_data.country.map(avg_points_by_country).fillna(train_data.points.mean())\n",
    "baseline_2_score = calc_prediction_quality(test_data, 'points', 'baseline_2_predicted_points')\n",
    "baseline_2_score"
   ]
  },
  {
   "cell_type": "markdown",
   "id": "e4d5c6fa-37c9-47cd-b0de-bf7e4d19eb69",
   "metadata": {
    "tags": []
   },
   "source": [
    "### 1.3) Baseline 3 | Averege by Country and Province"
   ]
  },
  {
   "cell_type": "code",
   "execution_count": 10,
   "id": "4311c1f4-0a20-42a0-be8b-968d838444c1",
   "metadata": {
    "tags": []
   },
   "outputs": [
    {
     "data": {
      "text/html": [
       "<div>\n",
       "<style scoped>\n",
       "    .dataframe tbody tr th:only-of-type {\n",
       "        vertical-align: middle;\n",
       "    }\n",
       "\n",
       "    .dataframe tbody tr th {\n",
       "        vertical-align: top;\n",
       "    }\n",
       "\n",
       "    .dataframe thead th {\n",
       "        text-align: right;\n",
       "    }\n",
       "</style>\n",
       "<table border=\"1\" class=\"dataframe\">\n",
       "  <thead>\n",
       "    <tr style=\"text-align: right;\">\n",
       "      <th></th>\n",
       "      <th>country</th>\n",
       "      <th>description</th>\n",
       "      <th>designation</th>\n",
       "      <th>points</th>\n",
       "      <th>price</th>\n",
       "      <th>province</th>\n",
       "      <th>region_1</th>\n",
       "      <th>region_2</th>\n",
       "      <th>taster_name</th>\n",
       "      <th>taster_twitter_handle</th>\n",
       "      <th>title</th>\n",
       "      <th>variety</th>\n",
       "      <th>winery</th>\n",
       "      <th>baseline_1_predicted_points</th>\n",
       "      <th>baseline_2_predicted_points</th>\n",
       "      <th>baseline_3_predicted_points</th>\n",
       "    </tr>\n",
       "  </thead>\n",
       "  <tbody>\n",
       "    <tr>\n",
       "      <th>0</th>\n",
       "      <td>US</td>\n",
       "      <td>Pineapple rind, lemon pith and orange blossom ...</td>\n",
       "      <td>Reserve Late Harvest</td>\n",
       "      <td>87</td>\n",
       "      <td>13.0</td>\n",
       "      <td>Michigan</td>\n",
       "      <td>Lake Michigan Shore</td>\n",
       "      <td>NaN</td>\n",
       "      <td>Alexander Peartree</td>\n",
       "      <td>NaN</td>\n",
       "      <td>St. Julian 2013 Reserve Late Harvest Riesling ...</td>\n",
       "      <td>Riesling</td>\n",
       "      <td>St. Julian</td>\n",
       "      <td>88.440546</td>\n",
       "      <td>88.557541</td>\n",
       "      <td>85.915663</td>\n",
       "    </tr>\n",
       "    <tr>\n",
       "      <th>1</th>\n",
       "      <td>Italy</td>\n",
       "      <td>Here's a bright, informal red that opens with ...</td>\n",
       "      <td>Belsito</td>\n",
       "      <td>87</td>\n",
       "      <td>16.0</td>\n",
       "      <td>Sicily &amp; Sardinia</td>\n",
       "      <td>Vittoria</td>\n",
       "      <td>NaN</td>\n",
       "      <td>Kerin O’Keefe</td>\n",
       "      <td>@kerinokeefe</td>\n",
       "      <td>Terre di Giurfo 2013 Belsito Frappato (Vittoria)</td>\n",
       "      <td>Frappato</td>\n",
       "      <td>Terre di Giurfo</td>\n",
       "      <td>88.440546</td>\n",
       "      <td>88.582271</td>\n",
       "      <td>88.092549</td>\n",
       "    </tr>\n",
       "    <tr>\n",
       "      <th>2</th>\n",
       "      <td>France</td>\n",
       "      <td>This dry and restrained wine offers spice in p...</td>\n",
       "      <td>NaN</td>\n",
       "      <td>87</td>\n",
       "      <td>24.0</td>\n",
       "      <td>Alsace</td>\n",
       "      <td>Alsace</td>\n",
       "      <td>NaN</td>\n",
       "      <td>Roger Voss</td>\n",
       "      <td>@vossroger</td>\n",
       "      <td>Trimbach 2012 Gewurztraminer (Alsace)</td>\n",
       "      <td>Gewürztraminer</td>\n",
       "      <td>Trimbach</td>\n",
       "      <td>88.440546</td>\n",
       "      <td>88.847190</td>\n",
       "      <td>89.333902</td>\n",
       "    </tr>\n",
       "    <tr>\n",
       "      <th>3</th>\n",
       "      <td>Italy</td>\n",
       "      <td>This is dominated by oak and oak-driven aromas...</td>\n",
       "      <td>Rosso</td>\n",
       "      <td>87</td>\n",
       "      <td>NaN</td>\n",
       "      <td>Sicily &amp; Sardinia</td>\n",
       "      <td>Etna</td>\n",
       "      <td>NaN</td>\n",
       "      <td>Kerin O’Keefe</td>\n",
       "      <td>@kerinokeefe</td>\n",
       "      <td>Masseria Setteporte 2012 Rosso  (Etna)</td>\n",
       "      <td>Nerello Mascalese</td>\n",
       "      <td>Masseria Setteporte</td>\n",
       "      <td>88.440546</td>\n",
       "      <td>88.582271</td>\n",
       "      <td>88.092549</td>\n",
       "    </tr>\n",
       "    <tr>\n",
       "      <th>4</th>\n",
       "      <td>US</td>\n",
       "      <td>Red fruit aromas pervade on the nose, with cig...</td>\n",
       "      <td>NaN</td>\n",
       "      <td>87</td>\n",
       "      <td>32.0</td>\n",
       "      <td>Virginia</td>\n",
       "      <td>Virginia</td>\n",
       "      <td>NaN</td>\n",
       "      <td>Alexander Peartree</td>\n",
       "      <td>NaN</td>\n",
       "      <td>Quiévremont 2012 Meritage (Virginia)</td>\n",
       "      <td>Meritage</td>\n",
       "      <td>Quiévremont</td>\n",
       "      <td>88.440546</td>\n",
       "      <td>88.557541</td>\n",
       "      <td>85.580479</td>\n",
       "    </tr>\n",
       "  </tbody>\n",
       "</table>\n",
       "</div>"
      ],
      "text/plain": [
       "  country                                        description  \\\n",
       "0      US  Pineapple rind, lemon pith and orange blossom ...   \n",
       "1   Italy  Here's a bright, informal red that opens with ...   \n",
       "2  France  This dry and restrained wine offers spice in p...   \n",
       "3   Italy  This is dominated by oak and oak-driven aromas...   \n",
       "4      US  Red fruit aromas pervade on the nose, with cig...   \n",
       "\n",
       "            designation  points  price           province  \\\n",
       "0  Reserve Late Harvest      87   13.0           Michigan   \n",
       "1               Belsito      87   16.0  Sicily & Sardinia   \n",
       "2                   NaN      87   24.0             Alsace   \n",
       "3                 Rosso      87    NaN  Sicily & Sardinia   \n",
       "4                   NaN      87   32.0           Virginia   \n",
       "\n",
       "              region_1 region_2         taster_name taster_twitter_handle  \\\n",
       "0  Lake Michigan Shore      NaN  Alexander Peartree                   NaN   \n",
       "1             Vittoria      NaN       Kerin O’Keefe          @kerinokeefe   \n",
       "2               Alsace      NaN          Roger Voss            @vossroger   \n",
       "3                 Etna      NaN       Kerin O’Keefe          @kerinokeefe   \n",
       "4             Virginia      NaN  Alexander Peartree                   NaN   \n",
       "\n",
       "                                               title            variety  \\\n",
       "0  St. Julian 2013 Reserve Late Harvest Riesling ...           Riesling   \n",
       "1   Terre di Giurfo 2013 Belsito Frappato (Vittoria)           Frappato   \n",
       "2              Trimbach 2012 Gewurztraminer (Alsace)     Gewürztraminer   \n",
       "3             Masseria Setteporte 2012 Rosso  (Etna)  Nerello Mascalese   \n",
       "4               Quiévremont 2012 Meritage (Virginia)           Meritage   \n",
       "\n",
       "                winery  baseline_1_predicted_points  \\\n",
       "0           St. Julian                    88.440546   \n",
       "1      Terre di Giurfo                    88.440546   \n",
       "2             Trimbach                    88.440546   \n",
       "3  Masseria Setteporte                    88.440546   \n",
       "4          Quiévremont                    88.440546   \n",
       "\n",
       "   baseline_2_predicted_points  baseline_3_predicted_points  \n",
       "0                    88.557541                    85.915663  \n",
       "1                    88.582271                    88.092549  \n",
       "2                    88.847190                    89.333902  \n",
       "3                    88.582271                    88.092549  \n",
       "4                    88.557541                    85.580479  "
      ]
     },
     "execution_count": 10,
     "metadata": {},
     "output_type": "execute_result"
    }
   ],
   "source": [
    "avg_points_by_country_and_province = train_data.groupby(['country', 'province']).points.mean().rename('baseline_3_predicted_points')\n",
    "test_data_with_bs_3 = test_data.merge(avg_points_by_country_and_province, on = ['country', 'province'], how = 'left')\n",
    "test_data_with_bs_3.head()"
   ]
  },
  {
   "cell_type": "code",
   "execution_count": 11,
   "id": "f61da1ed-cb78-45f5-a368-935e2375597e",
   "metadata": {
    "tags": []
   },
   "outputs": [
    {
     "data": {
      "text/plain": [
       "(0, 16)"
      ]
     },
     "execution_count": 11,
     "metadata": {},
     "output_type": "execute_result"
    }
   ],
   "source": [
    "test_data_with_bs_3['baseline_3_predicted_points'] = test_data_with_bs_3.baseline_3_predicted_points.fillna(test_data_with_bs_3.baseline_2_predicted_points)\n",
    "test_data_with_bs_3[test_data_with_bs_3.baseline_3_predicted_points.isna()].shape"
   ]
  },
  {
   "cell_type": "code",
   "execution_count": 12,
   "id": "f4be6fd6-b9c7-404a-bfd1-68bac2928034",
   "metadata": {
    "tags": []
   },
   "outputs": [],
   "source": [
    "test_data['baseline_3_predicted_points'] = test_data_with_bs_3.baseline_3_predicted_points"
   ]
  },
  {
   "cell_type": "code",
   "execution_count": 13,
   "id": "3c9e774a-007e-4a21-b642-78fa1f40c8c7",
   "metadata": {
    "tags": []
   },
   "outputs": [
    {
     "data": {
      "text/plain": [
       "MSE    8.491592\n",
       "MAE    2.363831\n",
       "R2     0.110161\n",
       "dtype: float64"
      ]
     },
     "execution_count": 13,
     "metadata": {},
     "output_type": "execute_result"
    }
   ],
   "source": [
    "baseline_3_score = calc_prediction_quality(test_data_with_bs_3, 'points', 'baseline_3_predicted_points')\n",
    "baseline_3_score"
   ]
  },
  {
   "cell_type": "markdown",
   "id": "f35ec3fc-e097-4844-bcc1-de97a3c2ef86",
   "metadata": {
    "tags": []
   },
   "source": [
    "### 1.4) Prediction Score summary\n",
    "For Baseline 1-3."
   ]
  },
  {
   "cell_type": "code",
   "execution_count": 14,
   "id": "9b06ad94-75ac-42bc-91d5-e120ba84b64a",
   "metadata": {
    "tags": []
   },
   "outputs": [
    {
     "data": {
      "text/html": [
       "<div>\n",
       "<style scoped>\n",
       "    .dataframe tbody tr th:only-of-type {\n",
       "        vertical-align: middle;\n",
       "    }\n",
       "\n",
       "    .dataframe tbody tr th {\n",
       "        vertical-align: top;\n",
       "    }\n",
       "\n",
       "    .dataframe thead th {\n",
       "        text-align: right;\n",
       "    }\n",
       "</style>\n",
       "<table border=\"1\" class=\"dataframe\">\n",
       "  <thead>\n",
       "    <tr style=\"text-align: right;\">\n",
       "      <th></th>\n",
       "      <th>MSE</th>\n",
       "      <th>MAE</th>\n",
       "      <th>R2</th>\n",
       "    </tr>\n",
       "  </thead>\n",
       "  <tbody>\n",
       "    <tr>\n",
       "      <th>baseline_1</th>\n",
       "      <td>9.542911</td>\n",
       "      <td>2.532531</td>\n",
       "      <td>-0.000007</td>\n",
       "    </tr>\n",
       "    <tr>\n",
       "      <th>baseline_2</th>\n",
       "      <td>9.037190</td>\n",
       "      <td>2.459464</td>\n",
       "      <td>0.052987</td>\n",
       "    </tr>\n",
       "    <tr>\n",
       "      <th>baseline_3</th>\n",
       "      <td>8.491592</td>\n",
       "      <td>2.363831</td>\n",
       "      <td>0.110161</td>\n",
       "    </tr>\n",
       "  </tbody>\n",
       "</table>\n",
       "</div>"
      ],
      "text/plain": [
       "                 MSE       MAE        R2\n",
       "baseline_1  9.542911  2.532531 -0.000007\n",
       "baseline_2  9.037190  2.459464  0.052987\n",
       "baseline_3  8.491592  2.363831  0.110161"
      ]
     },
     "execution_count": 14,
     "metadata": {},
     "output_type": "execute_result"
    }
   ],
   "source": [
    "baseline_summary = pd.DataFrame([baseline_1_score, baseline_2_score, baseline_3_score],\n",
    "                                index = ['baseline_1', 'baseline_2', 'baseline_3'])\n",
    "baseline_summary"
   ]
  },
  {
   "cell_type": "markdown",
   "id": "36f8dd47-295b-4d89-b06e-a335a41efb25",
   "metadata": {},
   "source": [
    "## 2) Training a Boosting Tree"
   ]
  },
  {
   "cell_type": "code",
   "execution_count": 15,
   "id": "97e5cf4d-1fba-4d0b-b9be-78044e29f6e4",
   "metadata": {
    "tags": []
   },
   "outputs": [],
   "source": [
    "from sklearn.preprocessing import LabelEncoder\n",
    "le = LabelEncoder()"
   ]
  },
  {
   "cell_type": "markdown",
   "id": "b1e3d113-2107-42d9-8d8f-219b8669f127",
   "metadata": {
    "tags": []
   },
   "source": [
    "### 2.1) Preparing the Data\n",
    "Label encoding for categorical features."
   ]
  },
  {
   "cell_type": "code",
   "execution_count": 16,
   "id": "62fec3f0-0fd3-43fa-a626-18d5deea4b28",
   "metadata": {},
   "outputs": [
    {
     "data": {
      "text/plain": [
       "Index(['country', 'description', 'designation', 'points', 'price', 'province',\n",
       "       'region_1', 'region_2', 'taster_name', 'taster_twitter_handle', 'title',\n",
       "       'variety', 'winery'],\n",
       "      dtype='object')"
      ]
     },
     "execution_count": 16,
     "metadata": {},
     "output_type": "execute_result"
    }
   ],
   "source": [
    "wine_review.columns"
   ]
  },
  {
   "cell_type": "code",
   "execution_count": 17,
   "id": "4d3eb5c1-518a-4109-b951-86201d59d25b",
   "metadata": {
    "tags": []
   },
   "outputs": [],
   "source": [
    "categorial_features = ['country', 'designation', 'province', 'region_1', 'region_2', 'taster_name', 'variety', 'winery']\n",
    "numerical_features = ['price']\n",
    "features = categorial_features + numerical_features"
   ]
  },
  {
   "cell_type": "code",
   "execution_count": 18,
   "id": "675401c0-414c-4e61-95c8-09979cb2288e",
   "metadata": {
    "tags": []
   },
   "outputs": [
    {
     "data": {
      "text/html": [
       "<div>\n",
       "<style scoped>\n",
       "    .dataframe tbody tr th:only-of-type {\n",
       "        vertical-align: middle;\n",
       "    }\n",
       "\n",
       "    .dataframe tbody tr th {\n",
       "        vertical-align: top;\n",
       "    }\n",
       "\n",
       "    .dataframe thead th {\n",
       "        text-align: right;\n",
       "    }\n",
       "</style>\n",
       "<table border=\"1\" class=\"dataframe\">\n",
       "  <thead>\n",
       "    <tr style=\"text-align: right;\">\n",
       "      <th></th>\n",
       "      <th>country</th>\n",
       "      <th>designation</th>\n",
       "      <th>province</th>\n",
       "      <th>region_1</th>\n",
       "      <th>region_2</th>\n",
       "      <th>taster_name</th>\n",
       "      <th>variety</th>\n",
       "      <th>winery</th>\n",
       "      <th>price</th>\n",
       "      <th>points</th>\n",
       "    </tr>\n",
       "  </thead>\n",
       "  <tbody>\n",
       "    <tr>\n",
       "      <th>0</th>\n",
       "      <td>22</td>\n",
       "      <td>36806</td>\n",
       "      <td>332</td>\n",
       "      <td>424</td>\n",
       "      <td>6</td>\n",
       "      <td>9</td>\n",
       "      <td>691</td>\n",
       "      <td>11608</td>\n",
       "      <td>-1.0</td>\n",
       "      <td>87</td>\n",
       "    </tr>\n",
       "    <tr>\n",
       "      <th>1</th>\n",
       "      <td>32</td>\n",
       "      <td>2325</td>\n",
       "      <td>108</td>\n",
       "      <td>738</td>\n",
       "      <td>6</td>\n",
       "      <td>16</td>\n",
       "      <td>451</td>\n",
       "      <td>12956</td>\n",
       "      <td>15.0</td>\n",
       "      <td>87</td>\n",
       "    </tr>\n",
       "    <tr>\n",
       "      <th>2</th>\n",
       "      <td>41</td>\n",
       "      <td>23169</td>\n",
       "      <td>269</td>\n",
       "      <td>1218</td>\n",
       "      <td>17</td>\n",
       "      <td>15</td>\n",
       "      <td>437</td>\n",
       "      <td>13018</td>\n",
       "      <td>14.0</td>\n",
       "      <td>87</td>\n",
       "    </tr>\n",
       "    <tr>\n",
       "      <th>3</th>\n",
       "      <td>41</td>\n",
       "      <td>27975</td>\n",
       "      <td>218</td>\n",
       "      <td>549</td>\n",
       "      <td>6</td>\n",
       "      <td>0</td>\n",
       "      <td>480</td>\n",
       "      <td>14390</td>\n",
       "      <td>13.0</td>\n",
       "      <td>87</td>\n",
       "    </tr>\n",
       "    <tr>\n",
       "      <th>4</th>\n",
       "      <td>41</td>\n",
       "      <td>36466</td>\n",
       "      <td>269</td>\n",
       "      <td>1218</td>\n",
       "      <td>17</td>\n",
       "      <td>15</td>\n",
       "      <td>441</td>\n",
       "      <td>14621</td>\n",
       "      <td>65.0</td>\n",
       "      <td>87</td>\n",
       "    </tr>\n",
       "  </tbody>\n",
       "</table>\n",
       "</div>"
      ],
      "text/plain": [
       "   country  designation  province  region_1  region_2  taster_name  variety  \\\n",
       "0       22        36806       332       424         6            9      691   \n",
       "1       32         2325       108       738         6           16      451   \n",
       "2       41        23169       269      1218        17           15      437   \n",
       "3       41        27975       218       549         6            0      480   \n",
       "4       41        36466       269      1218        17           15      441   \n",
       "\n",
       "   winery  price  points  \n",
       "0   11608   -1.0      87  \n",
       "1   12956   15.0      87  \n",
       "2   13018   14.0      87  \n",
       "3   14390   13.0      87  \n",
       "4   14621   65.0      87  "
      ]
     },
     "execution_count": 18,
     "metadata": {},
     "output_type": "execute_result"
    }
   ],
   "source": [
    "encoded_features = wine_review[categorial_features].apply(lambda col: le.fit_transform(col.fillna('NA')))\n",
    "encoded_features['price'] = wine_review.price.fillna(-1)\n",
    "encoded_features['points'] = wine_review.points\n",
    "encoded_features.head()"
   ]
  },
  {
   "cell_type": "markdown",
   "id": "2305dec2-5ab9-4720-9b2e-4866be1bdc23",
   "metadata": {
    "tags": []
   },
   "source": [
    "### 2.2) Train and Test Split"
   ]
  },
  {
   "cell_type": "code",
   "execution_count": 19,
   "id": "1fb0d54c-edc8-4245-9fff-01bdfa902c7b",
   "metadata": {
    "tags": []
   },
   "outputs": [],
   "source": [
    "train_encoded = encoded_features.loc[train_indexes]\n",
    "test_encoded = encoded_features.loc[test_indexes]\n",
    "assert len(train_encoded) == len(train_data), len(test_encoded) == len(test_data)"
   ]
  },
  {
   "cell_type": "code",
   "execution_count": 20,
   "id": "ce175ab5-aa63-4fca-a442-9c5190a31632",
   "metadata": {
    "tags": []
   },
   "outputs": [],
   "source": [
    "train_x_encoded = train_encoded[['country', 'province', 'region_1', 'region_2', 'taster_name', 'variety', 'winery', 'price']]\n",
    "train_y_encoded = train_encoded['points']\n",
    "test_x_encoded = test_encoded[['country', 'province', 'region_1', 'region_2', 'taster_name', 'variety', 'winery', 'price']]\n",
    "test_y_encoded = test_encoded['points']"
   ]
  },
  {
   "cell_type": "markdown",
   "id": "117b6d31-81a7-4fba-8ce1-1d2f3209044c",
   "metadata": {
    "tags": []
   },
   "source": [
    "### 2.3) Fitting Tree Classifier"
   ]
  },
  {
   "cell_type": "code",
   "execution_count": 21,
   "id": "7d1f9ade-7942-44a9-a17f-92b1bc03be10",
   "metadata": {
    "tags": []
   },
   "outputs": [],
   "source": [
    "from sklearn.ensemble import GradientBoostingClassifier"
   ]
  },
  {
   "cell_type": "code",
   "execution_count": 22,
   "id": "6f69dd49-103f-43ac-b506-e7135c926d4b",
   "metadata": {
    "tags": []
   },
   "outputs": [],
   "source": [
    "n_estimators = 80\n",
    "learning_rate = 0.05\n",
    "gbc_clf = GradientBoostingClassifier(learning_rate = learning_rate, n_estimators = n_estimators)"
   ]
  },
  {
   "cell_type": "code",
   "execution_count": 23,
   "id": "cb4a0c1e-f30d-4180-97b0-4c48130564cd",
   "metadata": {
    "tags": []
   },
   "outputs": [
    {
     "data": {
      "text/plain": [
       "GradientBoostingClassifier(learning_rate=0.05, n_estimators=80)"
      ]
     },
     "execution_count": 23,
     "metadata": {},
     "output_type": "execute_result"
    }
   ],
   "source": [
    "gbc_clf.fit(train_x_encoded, train_y_encoded.values)"
   ]
  },
  {
   "cell_type": "code",
   "execution_count": 24,
   "id": "e1a6fe87-3b6c-4534-a5e0-c6fc783bad07",
   "metadata": {
    "tags": []
   },
   "outputs": [],
   "source": [
    "test_data['gbc_clf_pred'] = gbc_clf.predict(test_x_encoded)"
   ]
  },
  {
   "cell_type": "code",
   "execution_count": 25,
   "id": "7d7d6296-de0e-41d6-a390-66a2a9c568a8",
   "metadata": {},
   "outputs": [
    {
     "data": {
      "text/html": [
       "<div>\n",
       "<style scoped>\n",
       "    .dataframe tbody tr th:only-of-type {\n",
       "        vertical-align: middle;\n",
       "    }\n",
       "\n",
       "    .dataframe tbody tr th {\n",
       "        vertical-align: top;\n",
       "    }\n",
       "\n",
       "    .dataframe thead th {\n",
       "        text-align: right;\n",
       "    }\n",
       "</style>\n",
       "<table border=\"1\" class=\"dataframe\">\n",
       "  <thead>\n",
       "    <tr style=\"text-align: right;\">\n",
       "      <th></th>\n",
       "      <th>country</th>\n",
       "      <th>description</th>\n",
       "      <th>designation</th>\n",
       "      <th>points</th>\n",
       "      <th>price</th>\n",
       "      <th>province</th>\n",
       "      <th>region_1</th>\n",
       "      <th>region_2</th>\n",
       "      <th>taster_name</th>\n",
       "      <th>taster_twitter_handle</th>\n",
       "      <th>title</th>\n",
       "      <th>variety</th>\n",
       "      <th>winery</th>\n",
       "      <th>baseline_1_predicted_points</th>\n",
       "      <th>baseline_2_predicted_points</th>\n",
       "      <th>baseline_3_predicted_points</th>\n",
       "      <th>gbc_clf_pred</th>\n",
       "    </tr>\n",
       "  </thead>\n",
       "  <tbody>\n",
       "    <tr>\n",
       "      <th>3</th>\n",
       "      <td>US</td>\n",
       "      <td>Pineapple rind, lemon pith and orange blossom ...</td>\n",
       "      <td>Reserve Late Harvest</td>\n",
       "      <td>87</td>\n",
       "      <td>13.0</td>\n",
       "      <td>Michigan</td>\n",
       "      <td>Lake Michigan Shore</td>\n",
       "      <td>NaN</td>\n",
       "      <td>Alexander Peartree</td>\n",
       "      <td>NaN</td>\n",
       "      <td>St. Julian 2013 Reserve Late Harvest Riesling ...</td>\n",
       "      <td>Riesling</td>\n",
       "      <td>St. Julian</td>\n",
       "      <td>88.440546</td>\n",
       "      <td>88.557541</td>\n",
       "      <td>88.092549</td>\n",
       "      <td>87</td>\n",
       "    </tr>\n",
       "    <tr>\n",
       "      <th>6</th>\n",
       "      <td>Italy</td>\n",
       "      <td>Here's a bright, informal red that opens with ...</td>\n",
       "      <td>Belsito</td>\n",
       "      <td>87</td>\n",
       "      <td>16.0</td>\n",
       "      <td>Sicily &amp; Sardinia</td>\n",
       "      <td>Vittoria</td>\n",
       "      <td>NaN</td>\n",
       "      <td>Kerin O’Keefe</td>\n",
       "      <td>@kerinokeefe</td>\n",
       "      <td>Terre di Giurfo 2013 Belsito Frappato (Vittoria)</td>\n",
       "      <td>Frappato</td>\n",
       "      <td>Terre di Giurfo</td>\n",
       "      <td>88.440546</td>\n",
       "      <td>88.582271</td>\n",
       "      <td>88.092549</td>\n",
       "      <td>87</td>\n",
       "    </tr>\n",
       "    <tr>\n",
       "      <th>7</th>\n",
       "      <td>France</td>\n",
       "      <td>This dry and restrained wine offers spice in p...</td>\n",
       "      <td>NaN</td>\n",
       "      <td>87</td>\n",
       "      <td>24.0</td>\n",
       "      <td>Alsace</td>\n",
       "      <td>Alsace</td>\n",
       "      <td>NaN</td>\n",
       "      <td>Roger Voss</td>\n",
       "      <td>@vossroger</td>\n",
       "      <td>Trimbach 2012 Gewurztraminer (Alsace)</td>\n",
       "      <td>Gewürztraminer</td>\n",
       "      <td>Trimbach</td>\n",
       "      <td>88.440546</td>\n",
       "      <td>88.847190</td>\n",
       "      <td>88.620260</td>\n",
       "      <td>88</td>\n",
       "    </tr>\n",
       "  </tbody>\n",
       "</table>\n",
       "</div>"
      ],
      "text/plain": [
       "  country                                        description  \\\n",
       "3      US  Pineapple rind, lemon pith and orange blossom ...   \n",
       "6   Italy  Here's a bright, informal red that opens with ...   \n",
       "7  France  This dry and restrained wine offers spice in p...   \n",
       "\n",
       "            designation  points  price           province  \\\n",
       "3  Reserve Late Harvest      87   13.0           Michigan   \n",
       "6               Belsito      87   16.0  Sicily & Sardinia   \n",
       "7                   NaN      87   24.0             Alsace   \n",
       "\n",
       "              region_1 region_2         taster_name taster_twitter_handle  \\\n",
       "3  Lake Michigan Shore      NaN  Alexander Peartree                   NaN   \n",
       "6             Vittoria      NaN       Kerin O’Keefe          @kerinokeefe   \n",
       "7               Alsace      NaN          Roger Voss            @vossroger   \n",
       "\n",
       "                                               title         variety  \\\n",
       "3  St. Julian 2013 Reserve Late Harvest Riesling ...        Riesling   \n",
       "6   Terre di Giurfo 2013 Belsito Frappato (Vittoria)        Frappato   \n",
       "7              Trimbach 2012 Gewurztraminer (Alsace)  Gewürztraminer   \n",
       "\n",
       "            winery  baseline_1_predicted_points  baseline_2_predicted_points  \\\n",
       "3       St. Julian                    88.440546                    88.557541   \n",
       "6  Terre di Giurfo                    88.440546                    88.582271   \n",
       "7         Trimbach                    88.440546                    88.847190   \n",
       "\n",
       "   baseline_3_predicted_points  gbc_clf_pred  \n",
       "3                    88.092549            87  \n",
       "6                    88.092549            87  \n",
       "7                    88.620260            88  "
      ]
     },
     "execution_count": 25,
     "metadata": {},
     "output_type": "execute_result"
    }
   ],
   "source": [
    "test_data.head(3)"
   ]
  },
  {
   "cell_type": "code",
   "execution_count": 26,
   "id": "d24b09bd-09ab-425d-9978-57252411b7e1",
   "metadata": {
    "tags": []
   },
   "outputs": [
    {
     "data": {
      "text/plain": [
       "MSE    6.329152\n",
       "MAE    1.908034\n",
       "R2     0.336764\n",
       "dtype: float64"
      ]
     },
     "execution_count": 26,
     "metadata": {},
     "output_type": "execute_result"
    }
   ],
   "source": [
    "gbc_clf_score = calc_prediction_quality(test_data, 'points', 'gbc_clf_pred')\n",
    "gbc_clf_score"
   ]
  },
  {
   "cell_type": "code",
   "execution_count": 27,
   "id": "ea0f8f4c-12c8-4ca9-be74-aa18f821e95f",
   "metadata": {},
   "outputs": [
    {
     "data": {
      "text/html": [
       "<div>\n",
       "<style scoped>\n",
       "    .dataframe tbody tr th:only-of-type {\n",
       "        vertical-align: middle;\n",
       "    }\n",
       "\n",
       "    .dataframe tbody tr th {\n",
       "        vertical-align: top;\n",
       "    }\n",
       "\n",
       "    .dataframe thead th {\n",
       "        text-align: right;\n",
       "    }\n",
       "</style>\n",
       "<table border=\"1\" class=\"dataframe\">\n",
       "  <thead>\n",
       "    <tr style=\"text-align: right;\">\n",
       "      <th></th>\n",
       "      <th>MSE</th>\n",
       "      <th>MAE</th>\n",
       "      <th>R2</th>\n",
       "    </tr>\n",
       "  </thead>\n",
       "  <tbody>\n",
       "    <tr>\n",
       "      <th>baseline_1_score</th>\n",
       "      <td>9.542911</td>\n",
       "      <td>2.532531</td>\n",
       "      <td>-0.000007</td>\n",
       "    </tr>\n",
       "    <tr>\n",
       "      <th>baseline_2_score</th>\n",
       "      <td>9.037190</td>\n",
       "      <td>2.459464</td>\n",
       "      <td>0.052987</td>\n",
       "    </tr>\n",
       "    <tr>\n",
       "      <th>baseline_3_score</th>\n",
       "      <td>8.491592</td>\n",
       "      <td>2.363831</td>\n",
       "      <td>0.110161</td>\n",
       "    </tr>\n",
       "    <tr>\n",
       "      <th>gbc_clf_score</th>\n",
       "      <td>6.329152</td>\n",
       "      <td>1.908034</td>\n",
       "      <td>0.336764</td>\n",
       "    </tr>\n",
       "  </tbody>\n",
       "</table>\n",
       "</div>"
      ],
      "text/plain": [
       "                       MSE       MAE        R2\n",
       "baseline_1_score  9.542911  2.532531 -0.000007\n",
       "baseline_2_score  9.037190  2.459464  0.052987\n",
       "baseline_3_score  8.491592  2.363831  0.110161\n",
       "gbc_clf_score     6.329152  1.908034  0.336764"
      ]
     },
     "execution_count": 27,
     "metadata": {},
     "output_type": "execute_result"
    }
   ],
   "source": [
    "all_compared = pd.DataFrame([baseline_1_score, baseline_2_score, baseline_3_score, gbc_clf_score],\n",
    "                            index = ['baseline_1_score', 'baseline_2_score', 'baseline_3_score', 'gbc_clf_score'])\n",
    "all_compared"
   ]
  },
  {
   "cell_type": "code",
   "execution_count": 28,
   "id": "469ac236-3393-4330-ace9-eb27872cff3f",
   "metadata": {},
   "outputs": [],
   "source": [
    "all_compared.to_csv('data/all_models_compared.csv', index = True)"
   ]
  },
  {
   "cell_type": "markdown",
   "id": "20409166-f7d0-4272-bf1f-141c9ba6bc27",
   "metadata": {},
   "source": [
    "## 3) Classical Natural Language Processing (NLP)"
   ]
  },
  {
   "cell_type": "markdown",
   "id": "5c7fbcda-27f2-4841-90ef-52f34cf801d4",
   "metadata": {},
   "source": [
    "### 3.1) Text only\n",
    "Using only the text from the \"description\" column."
   ]
  },
  {
   "cell_type": "code",
   "execution_count": 29,
   "id": "8c25ef88-66d7-4643-8eaa-97ee5b009459",
   "metadata": {
    "tags": []
   },
   "outputs": [
    {
     "name": "stderr",
     "output_type": "stream",
     "text": [
      "[nltk_data] Downloading package stopwords to\n",
      "[nltk_data]     /Users/barmizrahi/nltk_data...\n",
      "[nltk_data]   Package stopwords is already up-to-date!\n"
     ]
    },
    {
     "data": {
      "text/plain": [
       "True"
      ]
     },
     "execution_count": 29,
     "metadata": {},
     "output_type": "execute_result"
    }
   ],
   "source": [
    "import numpy as np\n",
    "import nltk\n",
    "nltk.download('stopwords')"
   ]
  },
  {
   "cell_type": "markdown",
   "id": "faefa4b6-a553-491c-aad7-4a82b5efbb5d",
   "metadata": {},
   "source": [
    "#### Classical NLP\n",
    "**Bag of Words:**"
   ]
  },
  {
   "cell_type": "markdown",
   "id": "1ca6acb6-277e-48b3-bd4f-c320c69e27f9",
   "metadata": {},
   "source": [
    "prepering the data:\n",
    "1) Cleaning the wine descriptions from stopwords, special characters,  and space characters.\n",
    "1) Building the Vocabulary"
   ]
  },
  {
   "cell_type": "code",
   "execution_count": 30,
   "id": "6cc909b4-bd73-40c6-ac2d-382368e2a7da",
   "metadata": {},
   "outputs": [],
   "source": [
    "stopwords = nltk.corpus.stopwords.words('english') + nltk.corpus.stopwords.words('french') + nltk.corpus.stopwords.words('spanish')\n",
    "specialChars = [\",\", \":\", \"\\\"\", \"=\", \"&\", \";\", \"%\", \"$\",\"@\", \"%\", \"^\", \"*\", \"(\", \")\", \"{\", \"}\",'–','“', '”'\"[\", \"]\", \"|\", \"/\", \"\\\\\", \">\", \"<\", \"-\",\"!\", \"?\", \".\", \"'\",\"--\", \"---\", \"#\", '‘', '’', '…']\n",
    "space_chars = ['.',',',';', '&', '?','!']\n",
    "removable_characters = stopwords + specialChars + space_chars"
   ]
  },
  {
   "cell_type": "markdown",
   "id": "eae6374b-9a7d-436b-83f1-b16da8c40a34",
   "metadata": {},
   "source": [
    "Drop removable characters from the Desription:"
   ]
  },
  {
   "cell_type": "code",
   "execution_count": 31,
   "id": "0a8ccb0f-ba2f-4ee6-b91c-cc9195d3d5c6",
   "metadata": {},
   "outputs": [],
   "source": [
    "wine_review['clean_description'] = wine_review.description.apply(lambda desc: \" \".join([token.lower() for token in nltk.word_tokenize(desc) if token.lower() not in removable_characters]))"
   ]
  },
  {
   "cell_type": "code",
   "execution_count": 32,
   "id": "827addd6-e0fe-4bac-9932-003fab8f31af",
   "metadata": {},
   "outputs": [
    {
     "data": {
      "text/html": [
       "<div>\n",
       "<style scoped>\n",
       "    .dataframe tbody tr th:only-of-type {\n",
       "        vertical-align: middle;\n",
       "    }\n",
       "\n",
       "    .dataframe tbody tr th {\n",
       "        vertical-align: top;\n",
       "    }\n",
       "\n",
       "    .dataframe thead th {\n",
       "        text-align: right;\n",
       "    }\n",
       "</style>\n",
       "<table border=\"1\" class=\"dataframe\">\n",
       "  <thead>\n",
       "    <tr style=\"text-align: right;\">\n",
       "      <th></th>\n",
       "      <th>description</th>\n",
       "      <th>clean_description</th>\n",
       "    </tr>\n",
       "  </thead>\n",
       "  <tbody>\n",
       "    <tr>\n",
       "      <th>26361</th>\n",
       "      <td>This is a smooth and polished wine, with herb ...</td>\n",
       "      <td>smooth polished wine herb new wood aromas juic...</td>\n",
       "    </tr>\n",
       "    <tr>\n",
       "      <th>128970</th>\n",
       "      <td>Velvety smooth, this estate-driven wine is sof...</td>\n",
       "      <td>velvety smooth estate-driven wine soft backbon...</td>\n",
       "    </tr>\n",
       "    <tr>\n",
       "      <th>23266</th>\n",
       "      <td>A blend of Zinfandel and Syrah, this wine is e...</td>\n",
       "      <td>blend zinfandel syrah wine exceptionally ripe ...</td>\n",
       "    </tr>\n",
       "    <tr>\n",
       "      <th>49026</th>\n",
       "      <td>Rubbery berry aromas come with a note of raw o...</td>\n",
       "      <td>rubbery berry aromas come note raw oak palate ...</td>\n",
       "    </tr>\n",
       "    <tr>\n",
       "      <th>27901</th>\n",
       "      <td>Chunky, jammy and full of blackberry and boyse...</td>\n",
       "      <td>chunky jammy full blackberry boysenberry aroma...</td>\n",
       "    </tr>\n",
       "  </tbody>\n",
       "</table>\n",
       "</div>"
      ],
      "text/plain": [
       "                                              description  \\\n",
       "26361   This is a smooth and polished wine, with herb ...   \n",
       "128970  Velvety smooth, this estate-driven wine is sof...   \n",
       "23266   A blend of Zinfandel and Syrah, this wine is e...   \n",
       "49026   Rubbery berry aromas come with a note of raw o...   \n",
       "27901   Chunky, jammy and full of blackberry and boyse...   \n",
       "\n",
       "                                        clean_description  \n",
       "26361   smooth polished wine herb new wood aromas juic...  \n",
       "128970  velvety smooth estate-driven wine soft backbon...  \n",
       "23266   blend zinfandel syrah wine exceptionally ripe ...  \n",
       "49026   rubbery berry aromas come note raw oak palate ...  \n",
       "27901   chunky jammy full blackberry boysenberry aroma...  "
      ]
     },
     "execution_count": 32,
     "metadata": {},
     "output_type": "execute_result"
    }
   ],
   "source": [
    "wine_review[['description', 'clean_description']].sample(5)"
   ]
  },
  {
   "cell_type": "markdown",
   "id": "63d0ab66-9694-4729-9b0d-2c41680d51d0",
   "metadata": {},
   "source": [
    "Building the vocabulary:\n",
    "First, we are expolring the words frequency in the wine descriptions. Then, we're disscusing the vocabulry size and as its results the words that will be bulit the vocabulry"
   ]
  },
  {
   "cell_type": "code",
   "execution_count": 33,
   "id": "e58329fc-4ab7-4c7b-8a3c-1d81b7f0e003",
   "metadata": {},
   "outputs": [],
   "source": [
    "bow_df_train = wine_review.loc[train_indexes]\n",
    "bow_df_test = wine_review.loc[test_indexes]\n",
    "assert bow_df_test.shape[0] + bow_df_train.shape[0] == wine_review.shape[0]"
   ]
  },
  {
   "cell_type": "code",
   "execution_count": 34,
   "id": "9821a304-e035-4f31-99ac-81c4b47ba72f",
   "metadata": {
    "tags": []
   },
   "outputs": [],
   "source": [
    "from sklearn.feature_extraction.text import CountVectorizer"
   ]
  },
  {
   "cell_type": "markdown",
   "id": "6266a796-9110-4552-8f45-8fc22c1f52bd",
   "metadata": {},
   "source": [
    "Train Bag of Words:"
   ]
  },
  {
   "cell_type": "code",
   "execution_count": 35,
   "id": "28b50dab-feaf-4dc5-a5e6-00f802636042",
   "metadata": {},
   "outputs": [
    {
     "data": {
      "text/html": [
       "<div>\n",
       "<style scoped>\n",
       "    .dataframe tbody tr th:only-of-type {\n",
       "        vertical-align: middle;\n",
       "    }\n",
       "\n",
       "    .dataframe tbody tr th {\n",
       "        vertical-align: top;\n",
       "    }\n",
       "\n",
       "    .dataframe thead th {\n",
       "        text-align: right;\n",
       "    }\n",
       "</style>\n",
       "<table border=\"1\" class=\"dataframe\">\n",
       "  <thead>\n",
       "    <tr style=\"text-align: right;\">\n",
       "      <th></th>\n",
       "      <th>words</th>\n",
       "      <th>wordCount</th>\n",
       "    </tr>\n",
       "  </thead>\n",
       "  <tbody>\n",
       "    <tr>\n",
       "      <th>0</th>\n",
       "      <td>wine</td>\n",
       "      <td>59102</td>\n",
       "    </tr>\n",
       "    <tr>\n",
       "      <th>1</th>\n",
       "      <td>flavors</td>\n",
       "      <td>46373</td>\n",
       "    </tr>\n",
       "    <tr>\n",
       "      <th>2</th>\n",
       "      <td>'s</td>\n",
       "      <td>38216</td>\n",
       "    </tr>\n",
       "    <tr>\n",
       "      <th>3</th>\n",
       "      <td>fruit</td>\n",
       "      <td>33192</td>\n",
       "    </tr>\n",
       "    <tr>\n",
       "      <th>4</th>\n",
       "      <td>aromas</td>\n",
       "      <td>28966</td>\n",
       "    </tr>\n",
       "  </tbody>\n",
       "</table>\n",
       "</div>"
      ],
      "text/plain": [
       "     words  wordCount\n",
       "0     wine      59102\n",
       "1  flavors      46373\n",
       "2       's      38216\n",
       "3    fruit      33192\n",
       "4   aromas      28966"
      ]
     },
     "execution_count": 35,
     "metadata": {},
     "output_type": "execute_result"
    }
   ],
   "source": [
    "all_train_words = [word for description in bow_df_train.clean_description for word in nltk.word_tokenize(description)]\n",
    "train_words_df = pd.DataFrame(data = all_train_words, columns = ['words']).words.value_counts().reset_index()\n",
    "train_words_df.columns = ['words','wordCount']\n",
    "train_words_df.head()"
   ]
  },
  {
   "cell_type": "code",
   "execution_count": 36,
   "id": "bb4d72c8-5b47-4ad3-aeae-00af1fb3e7b5",
   "metadata": {
    "tags": []
   },
   "outputs": [
    {
     "data": {
      "application/vnd.plotly.v1+json": {
       "config": {
        "linkText": "Export to plot.ly",
        "plotlyServerURL": "https://plot.ly",
        "showLink": true
       },
       "data": [
        {
         "marker": {
          "color": "rgba(255, 153, 51, 0.6)",
          "line": {
           "color": "rgba(255, 153, 51, 1.0)",
           "width": 1
          }
         },
         "name": "wordCount",
         "orientation": "v",
         "text": "",
         "type": "bar",
         "x": [
          "wine",
          "flavors",
          "'s",
          "fruit",
          "aromas",
          "palate",
          "acidity",
          "finish",
          "tannins",
          "drink",
          "cherry",
          "ripe",
          "black",
          "notes",
          "spice",
          "red",
          "rich",
          "nose",
          "fresh",
          "oak"
         ],
         "y": [
          59102,
          46373,
          38216,
          33192,
          28966,
          27793,
          25743,
          25721,
          22735,
          21999,
          20086,
          19689,
          18685,
          13962,
          13875,
          13806,
          12835,
          12413,
          12407,
          12312
         ]
        }
       ],
       "layout": {
        "autosize": true,
        "legend": {
         "bgcolor": "#F5F6F9",
         "font": {
          "color": "#4D5663"
         }
        },
        "paper_bgcolor": "#F5F6F9",
        "plot_bgcolor": "#F5F6F9",
        "template": {
         "data": {
          "bar": [
           {
            "error_x": {
             "color": "#2a3f5f"
            },
            "error_y": {
             "color": "#2a3f5f"
            },
            "marker": {
             "line": {
              "color": "#E5ECF6",
              "width": 0.5
             },
             "pattern": {
              "fillmode": "overlay",
              "size": 10,
              "solidity": 0.2
             }
            },
            "type": "bar"
           }
          ],
          "barpolar": [
           {
            "marker": {
             "line": {
              "color": "#E5ECF6",
              "width": 0.5
             },
             "pattern": {
              "fillmode": "overlay",
              "size": 10,
              "solidity": 0.2
             }
            },
            "type": "barpolar"
           }
          ],
          "carpet": [
           {
            "aaxis": {
             "endlinecolor": "#2a3f5f",
             "gridcolor": "white",
             "linecolor": "white",
             "minorgridcolor": "white",
             "startlinecolor": "#2a3f5f"
            },
            "baxis": {
             "endlinecolor": "#2a3f5f",
             "gridcolor": "white",
             "linecolor": "white",
             "minorgridcolor": "white",
             "startlinecolor": "#2a3f5f"
            },
            "type": "carpet"
           }
          ],
          "choropleth": [
           {
            "colorbar": {
             "outlinewidth": 0,
             "ticks": ""
            },
            "type": "choropleth"
           }
          ],
          "contour": [
           {
            "colorbar": {
             "outlinewidth": 0,
             "ticks": ""
            },
            "colorscale": [
             [
              0,
              "#0d0887"
             ],
             [
              0.1111111111111111,
              "#46039f"
             ],
             [
              0.2222222222222222,
              "#7201a8"
             ],
             [
              0.3333333333333333,
              "#9c179e"
             ],
             [
              0.4444444444444444,
              "#bd3786"
             ],
             [
              0.5555555555555556,
              "#d8576b"
             ],
             [
              0.6666666666666666,
              "#ed7953"
             ],
             [
              0.7777777777777778,
              "#fb9f3a"
             ],
             [
              0.8888888888888888,
              "#fdca26"
             ],
             [
              1,
              "#f0f921"
             ]
            ],
            "type": "contour"
           }
          ],
          "contourcarpet": [
           {
            "colorbar": {
             "outlinewidth": 0,
             "ticks": ""
            },
            "type": "contourcarpet"
           }
          ],
          "heatmap": [
           {
            "colorbar": {
             "outlinewidth": 0,
             "ticks": ""
            },
            "colorscale": [
             [
              0,
              "#0d0887"
             ],
             [
              0.1111111111111111,
              "#46039f"
             ],
             [
              0.2222222222222222,
              "#7201a8"
             ],
             [
              0.3333333333333333,
              "#9c179e"
             ],
             [
              0.4444444444444444,
              "#bd3786"
             ],
             [
              0.5555555555555556,
              "#d8576b"
             ],
             [
              0.6666666666666666,
              "#ed7953"
             ],
             [
              0.7777777777777778,
              "#fb9f3a"
             ],
             [
              0.8888888888888888,
              "#fdca26"
             ],
             [
              1,
              "#f0f921"
             ]
            ],
            "type": "heatmap"
           }
          ],
          "heatmapgl": [
           {
            "colorbar": {
             "outlinewidth": 0,
             "ticks": ""
            },
            "colorscale": [
             [
              0,
              "#0d0887"
             ],
             [
              0.1111111111111111,
              "#46039f"
             ],
             [
              0.2222222222222222,
              "#7201a8"
             ],
             [
              0.3333333333333333,
              "#9c179e"
             ],
             [
              0.4444444444444444,
              "#bd3786"
             ],
             [
              0.5555555555555556,
              "#d8576b"
             ],
             [
              0.6666666666666666,
              "#ed7953"
             ],
             [
              0.7777777777777778,
              "#fb9f3a"
             ],
             [
              0.8888888888888888,
              "#fdca26"
             ],
             [
              1,
              "#f0f921"
             ]
            ],
            "type": "heatmapgl"
           }
          ],
          "histogram": [
           {
            "marker": {
             "pattern": {
              "fillmode": "overlay",
              "size": 10,
              "solidity": 0.2
             }
            },
            "type": "histogram"
           }
          ],
          "histogram2d": [
           {
            "colorbar": {
             "outlinewidth": 0,
             "ticks": ""
            },
            "colorscale": [
             [
              0,
              "#0d0887"
             ],
             [
              0.1111111111111111,
              "#46039f"
             ],
             [
              0.2222222222222222,
              "#7201a8"
             ],
             [
              0.3333333333333333,
              "#9c179e"
             ],
             [
              0.4444444444444444,
              "#bd3786"
             ],
             [
              0.5555555555555556,
              "#d8576b"
             ],
             [
              0.6666666666666666,
              "#ed7953"
             ],
             [
              0.7777777777777778,
              "#fb9f3a"
             ],
             [
              0.8888888888888888,
              "#fdca26"
             ],
             [
              1,
              "#f0f921"
             ]
            ],
            "type": "histogram2d"
           }
          ],
          "histogram2dcontour": [
           {
            "colorbar": {
             "outlinewidth": 0,
             "ticks": ""
            },
            "colorscale": [
             [
              0,
              "#0d0887"
             ],
             [
              0.1111111111111111,
              "#46039f"
             ],
             [
              0.2222222222222222,
              "#7201a8"
             ],
             [
              0.3333333333333333,
              "#9c179e"
             ],
             [
              0.4444444444444444,
              "#bd3786"
             ],
             [
              0.5555555555555556,
              "#d8576b"
             ],
             [
              0.6666666666666666,
              "#ed7953"
             ],
             [
              0.7777777777777778,
              "#fb9f3a"
             ],
             [
              0.8888888888888888,
              "#fdca26"
             ],
             [
              1,
              "#f0f921"
             ]
            ],
            "type": "histogram2dcontour"
           }
          ],
          "mesh3d": [
           {
            "colorbar": {
             "outlinewidth": 0,
             "ticks": ""
            },
            "type": "mesh3d"
           }
          ],
          "parcoords": [
           {
            "line": {
             "colorbar": {
              "outlinewidth": 0,
              "ticks": ""
             }
            },
            "type": "parcoords"
           }
          ],
          "pie": [
           {
            "automargin": true,
            "type": "pie"
           }
          ],
          "scatter": [
           {
            "marker": {
             "colorbar": {
              "outlinewidth": 0,
              "ticks": ""
             }
            },
            "type": "scatter"
           }
          ],
          "scatter3d": [
           {
            "line": {
             "colorbar": {
              "outlinewidth": 0,
              "ticks": ""
             }
            },
            "marker": {
             "colorbar": {
              "outlinewidth": 0,
              "ticks": ""
             }
            },
            "type": "scatter3d"
           }
          ],
          "scattercarpet": [
           {
            "marker": {
             "colorbar": {
              "outlinewidth": 0,
              "ticks": ""
             }
            },
            "type": "scattercarpet"
           }
          ],
          "scattergeo": [
           {
            "marker": {
             "colorbar": {
              "outlinewidth": 0,
              "ticks": ""
             }
            },
            "type": "scattergeo"
           }
          ],
          "scattergl": [
           {
            "marker": {
             "colorbar": {
              "outlinewidth": 0,
              "ticks": ""
             }
            },
            "type": "scattergl"
           }
          ],
          "scattermapbox": [
           {
            "marker": {
             "colorbar": {
              "outlinewidth": 0,
              "ticks": ""
             }
            },
            "type": "scattermapbox"
           }
          ],
          "scatterpolar": [
           {
            "marker": {
             "colorbar": {
              "outlinewidth": 0,
              "ticks": ""
             }
            },
            "type": "scatterpolar"
           }
          ],
          "scatterpolargl": [
           {
            "marker": {
             "colorbar": {
              "outlinewidth": 0,
              "ticks": ""
             }
            },
            "type": "scatterpolargl"
           }
          ],
          "scatterternary": [
           {
            "marker": {
             "colorbar": {
              "outlinewidth": 0,
              "ticks": ""
             }
            },
            "type": "scatterternary"
           }
          ],
          "surface": [
           {
            "colorbar": {
             "outlinewidth": 0,
             "ticks": ""
            },
            "colorscale": [
             [
              0,
              "#0d0887"
             ],
             [
              0.1111111111111111,
              "#46039f"
             ],
             [
              0.2222222222222222,
              "#7201a8"
             ],
             [
              0.3333333333333333,
              "#9c179e"
             ],
             [
              0.4444444444444444,
              "#bd3786"
             ],
             [
              0.5555555555555556,
              "#d8576b"
             ],
             [
              0.6666666666666666,
              "#ed7953"
             ],
             [
              0.7777777777777778,
              "#fb9f3a"
             ],
             [
              0.8888888888888888,
              "#fdca26"
             ],
             [
              1,
              "#f0f921"
             ]
            ],
            "type": "surface"
           }
          ],
          "table": [
           {
            "cells": {
             "fill": {
              "color": "#EBF0F8"
             },
             "line": {
              "color": "white"
             }
            },
            "header": {
             "fill": {
              "color": "#C8D4E3"
             },
             "line": {
              "color": "white"
             }
            },
            "type": "table"
           }
          ]
         },
         "layout": {
          "annotationdefaults": {
           "arrowcolor": "#2a3f5f",
           "arrowhead": 0,
           "arrowwidth": 1
          },
          "autotypenumbers": "strict",
          "coloraxis": {
           "colorbar": {
            "outlinewidth": 0,
            "ticks": ""
           }
          },
          "colorscale": {
           "diverging": [
            [
             0,
             "#8e0152"
            ],
            [
             0.1,
             "#c51b7d"
            ],
            [
             0.2,
             "#de77ae"
            ],
            [
             0.3,
             "#f1b6da"
            ],
            [
             0.4,
             "#fde0ef"
            ],
            [
             0.5,
             "#f7f7f7"
            ],
            [
             0.6,
             "#e6f5d0"
            ],
            [
             0.7,
             "#b8e186"
            ],
            [
             0.8,
             "#7fbc41"
            ],
            [
             0.9,
             "#4d9221"
            ],
            [
             1,
             "#276419"
            ]
           ],
           "sequential": [
            [
             0,
             "#0d0887"
            ],
            [
             0.1111111111111111,
             "#46039f"
            ],
            [
             0.2222222222222222,
             "#7201a8"
            ],
            [
             0.3333333333333333,
             "#9c179e"
            ],
            [
             0.4444444444444444,
             "#bd3786"
            ],
            [
             0.5555555555555556,
             "#d8576b"
            ],
            [
             0.6666666666666666,
             "#ed7953"
            ],
            [
             0.7777777777777778,
             "#fb9f3a"
            ],
            [
             0.8888888888888888,
             "#fdca26"
            ],
            [
             1,
             "#f0f921"
            ]
           ],
           "sequentialminus": [
            [
             0,
             "#0d0887"
            ],
            [
             0.1111111111111111,
             "#46039f"
            ],
            [
             0.2222222222222222,
             "#7201a8"
            ],
            [
             0.3333333333333333,
             "#9c179e"
            ],
            [
             0.4444444444444444,
             "#bd3786"
            ],
            [
             0.5555555555555556,
             "#d8576b"
            ],
            [
             0.6666666666666666,
             "#ed7953"
            ],
            [
             0.7777777777777778,
             "#fb9f3a"
            ],
            [
             0.8888888888888888,
             "#fdca26"
            ],
            [
             1,
             "#f0f921"
            ]
           ]
          },
          "colorway": [
           "#636efa",
           "#EF553B",
           "#00cc96",
           "#ab63fa",
           "#FFA15A",
           "#19d3f3",
           "#FF6692",
           "#B6E880",
           "#FF97FF",
           "#FECB52"
          ],
          "font": {
           "color": "#2a3f5f"
          },
          "geo": {
           "bgcolor": "white",
           "lakecolor": "white",
           "landcolor": "#E5ECF6",
           "showlakes": true,
           "showland": true,
           "subunitcolor": "white"
          },
          "hoverlabel": {
           "align": "left"
          },
          "hovermode": "closest",
          "mapbox": {
           "style": "light"
          },
          "paper_bgcolor": "white",
          "plot_bgcolor": "#E5ECF6",
          "polar": {
           "angularaxis": {
            "gridcolor": "white",
            "linecolor": "white",
            "ticks": ""
           },
           "bgcolor": "#E5ECF6",
           "radialaxis": {
            "gridcolor": "white",
            "linecolor": "white",
            "ticks": ""
           }
          },
          "scene": {
           "xaxis": {
            "backgroundcolor": "#E5ECF6",
            "gridcolor": "white",
            "gridwidth": 2,
            "linecolor": "white",
            "showbackground": true,
            "ticks": "",
            "zerolinecolor": "white"
           },
           "yaxis": {
            "backgroundcolor": "#E5ECF6",
            "gridcolor": "white",
            "gridwidth": 2,
            "linecolor": "white",
            "showbackground": true,
            "ticks": "",
            "zerolinecolor": "white"
           },
           "zaxis": {
            "backgroundcolor": "#E5ECF6",
            "gridcolor": "white",
            "gridwidth": 2,
            "linecolor": "white",
            "showbackground": true,
            "ticks": "",
            "zerolinecolor": "white"
           }
          },
          "shapedefaults": {
           "line": {
            "color": "#2a3f5f"
           }
          },
          "ternary": {
           "aaxis": {
            "gridcolor": "white",
            "linecolor": "white",
            "ticks": ""
           },
           "baxis": {
            "gridcolor": "white",
            "linecolor": "white",
            "ticks": ""
           },
           "bgcolor": "#E5ECF6",
           "caxis": {
            "gridcolor": "white",
            "linecolor": "white",
            "ticks": ""
           }
          },
          "title": {
           "x": 0.05
          },
          "xaxis": {
           "automargin": true,
           "gridcolor": "white",
           "linecolor": "white",
           "ticks": "",
           "title": {
            "standoff": 15
           },
           "zerolinecolor": "white",
           "zerolinewidth": 2
          },
          "yaxis": {
           "automargin": true,
           "gridcolor": "white",
           "linecolor": "white",
           "ticks": "",
           "title": {
            "standoff": 15
           },
           "zerolinecolor": "white",
           "zerolinewidth": 2
          }
         }
        },
        "title": {
         "font": {
          "color": "#4D5663"
         },
         "text": "Most 20 Frequent words in Train Corpus"
        },
        "xaxis": {
         "autorange": true,
         "gridcolor": "#E1E5ED",
         "range": [
          -0.5,
          19.5
         ],
         "showgrid": true,
         "tickfont": {
          "color": "#4D5663"
         },
         "title": {
          "font": {
           "color": "#4D5663"
          },
          "text": "Word"
         },
         "type": "category",
         "zerolinecolor": "#E1E5ED"
        },
        "yaxis": {
         "autorange": true,
         "gridcolor": "#E1E5ED",
         "range": [
          0,
          62212.63157894737
         ],
         "showgrid": true,
         "tickfont": {
          "color": "#4D5663"
         },
         "title": {
          "font": {
           "color": "#4D5663"
          },
          "text": "Count"
         },
         "type": "linear",
         "zerolinecolor": "#E1E5ED"
        }
       }
      },
      "image/png": "[encoded data removed]",
      "text/html": [
       "<div>                            <div id=\"30f708e9-58aa-423b-a001-c006fb31afaa\" class=\"plotly-graph-div\" style=\"height:525px; width:100%;\"></div>            <script type=\"text/javascript\">                require([\"plotly\"], function(Plotly) {                    window.PLOTLYENV=window.PLOTLYENV || {};\n",
       "                    window.PLOTLYENV.BASE_URL='https://plot.ly';                                    if (document.getElementById(\"30f708e9-58aa-423b-a001-c006fb31afaa\")) {                    Plotly.newPlot(                        \"30f708e9-58aa-423b-a001-c006fb31afaa\",                        [{\"marker\":{\"color\":\"rgba(255, 153, 51, 0.6)\",\"line\":{\"color\":\"rgba(255, 153, 51, 1.0)\",\"width\":1}},\"name\":\"wordCount\",\"orientation\":\"v\",\"text\":\"\",\"x\":[\"wine\",\"flavors\",\"'s\",\"fruit\",\"aromas\",\"palate\",\"acidity\",\"finish\",\"tannins\",\"drink\",\"cherry\",\"ripe\",\"black\",\"notes\",\"spice\",\"red\",\"rich\",\"nose\",\"fresh\",\"oak\"],\"y\":[59102,46373,38216,33192,28966,27793,25743,25721,22735,21999,20086,19689,18685,13962,13875,13806,12835,12413,12407,12312],\"type\":\"bar\"}],                        {\"legend\":{\"bgcolor\":\"#F5F6F9\",\"font\":{\"color\":\"#4D5663\"}},\"paper_bgcolor\":\"#F5F6F9\",\"plot_bgcolor\":\"#F5F6F9\",\"template\":{\"data\":{\"barpolar\":[{\"marker\":{\"line\":{\"color\":\"#E5ECF6\",\"width\":0.5},\"pattern\":{\"fillmode\":\"overlay\",\"size\":10,\"solidity\":0.2}},\"type\":\"barpolar\"}],\"bar\":[{\"error_x\":{\"color\":\"#2a3f5f\"},\"error_y\":{\"color\":\"#2a3f5f\"},\"marker\":{\"line\":{\"color\":\"#E5ECF6\",\"width\":0.5},\"pattern\":{\"fillmode\":\"overlay\",\"size\":10,\"solidity\":0.2}},\"type\":\"bar\"}],\"carpet\":[{\"aaxis\":{\"endlinecolor\":\"#2a3f5f\",\"gridcolor\":\"white\",\"linecolor\":\"white\",\"minorgridcolor\":\"white\",\"startlinecolor\":\"#2a3f5f\"},\"baxis\":{\"endlinecolor\":\"#2a3f5f\",\"gridcolor\":\"white\",\"linecolor\":\"white\",\"minorgridcolor\":\"white\",\"startlinecolor\":\"#2a3f5f\"},\"type\":\"carpet\"}],\"choropleth\":[{\"colorbar\":{\"outlinewidth\":0,\"ticks\":\"\"},\"type\":\"choropleth\"}],\"contourcarpet\":[{\"colorbar\":{\"outlinewidth\":0,\"ticks\":\"\"},\"type\":\"contourcarpet\"}],\"contour\":[{\"colorbar\":{\"outlinewidth\":0,\"ticks\":\"\"},\"colorscale\":[[0.0,\"#0d0887\"],[0.1111111111111111,\"#46039f\"],[0.2222222222222222,\"#7201a8\"],[0.3333333333333333,\"#9c179e\"],[0.4444444444444444,\"#bd3786\"],[0.5555555555555556,\"#d8576b\"],[0.6666666666666666,\"#ed7953\"],[0.7777777777777778,\"#fb9f3a\"],[0.8888888888888888,\"#fdca26\"],[1.0,\"#f0f921\"]],\"type\":\"contour\"}],\"heatmapgl\":[{\"colorbar\":{\"outlinewidth\":0,\"ticks\":\"\"},\"colorscale\":[[0.0,\"#0d0887\"],[0.1111111111111111,\"#46039f\"],[0.2222222222222222,\"#7201a8\"],[0.3333333333333333,\"#9c179e\"],[0.4444444444444444,\"#bd3786\"],[0.5555555555555556,\"#d8576b\"],[0.6666666666666666,\"#ed7953\"],[0.7777777777777778,\"#fb9f3a\"],[0.8888888888888888,\"#fdca26\"],[1.0,\"#f0f921\"]],\"type\":\"heatmapgl\"}],\"heatmap\":[{\"colorbar\":{\"outlinewidth\":0,\"ticks\":\"\"},\"colorscale\":[[0.0,\"#0d0887\"],[0.1111111111111111,\"#46039f\"],[0.2222222222222222,\"#7201a8\"],[0.3333333333333333,\"#9c179e\"],[0.4444444444444444,\"#bd3786\"],[0.5555555555555556,\"#d8576b\"],[0.6666666666666666,\"#ed7953\"],[0.7777777777777778,\"#fb9f3a\"],[0.8888888888888888,\"#fdca26\"],[1.0,\"#f0f921\"]],\"type\":\"heatmap\"}],\"histogram2dcontour\":[{\"colorbar\":{\"outlinewidth\":0,\"ticks\":\"\"},\"colorscale\":[[0.0,\"#0d0887\"],[0.1111111111111111,\"#46039f\"],[0.2222222222222222,\"#7201a8\"],[0.3333333333333333,\"#9c179e\"],[0.4444444444444444,\"#bd3786\"],[0.5555555555555556,\"#d8576b\"],[0.6666666666666666,\"#ed7953\"],[0.7777777777777778,\"#fb9f3a\"],[0.8888888888888888,\"#fdca26\"],[1.0,\"#f0f921\"]],\"type\":\"histogram2dcontour\"}],\"histogram2d\":[{\"colorbar\":{\"outlinewidth\":0,\"ticks\":\"\"},\"colorscale\":[[0.0,\"#0d0887\"],[0.1111111111111111,\"#46039f\"],[0.2222222222222222,\"#7201a8\"],[0.3333333333333333,\"#9c179e\"],[0.4444444444444444,\"#bd3786\"],[0.5555555555555556,\"#d8576b\"],[0.6666666666666666,\"#ed7953\"],[0.7777777777777778,\"#fb9f3a\"],[0.8888888888888888,\"#fdca26\"],[1.0,\"#f0f921\"]],\"type\":\"histogram2d\"}],\"histogram\":[{\"marker\":{\"pattern\":{\"fillmode\":\"overlay\",\"size\":10,\"solidity\":0.2}},\"type\":\"histogram\"}],\"mesh3d\":[{\"colorbar\":{\"outlinewidth\":0,\"ticks\":\"\"},\"type\":\"mesh3d\"}],\"parcoords\":[{\"line\":{\"colorbar\":{\"outlinewidth\":0,\"ticks\":\"\"}},\"type\":\"parcoords\"}],\"pie\":[{\"automargin\":true,\"type\":\"pie\"}],\"scatter3d\":[{\"line\":{\"colorbar\":{\"outlinewidth\":0,\"ticks\":\"\"}},\"marker\":{\"colorbar\":{\"outlinewidth\":0,\"ticks\":\"\"}},\"type\":\"scatter3d\"}],\"scattercarpet\":[{\"marker\":{\"colorbar\":{\"outlinewidth\":0,\"ticks\":\"\"}},\"type\":\"scattercarpet\"}],\"scattergeo\":[{\"marker\":{\"colorbar\":{\"outlinewidth\":0,\"ticks\":\"\"}},\"type\":\"scattergeo\"}],\"scattergl\":[{\"marker\":{\"colorbar\":{\"outlinewidth\":0,\"ticks\":\"\"}},\"type\":\"scattergl\"}],\"scattermapbox\":[{\"marker\":{\"colorbar\":{\"outlinewidth\":0,\"ticks\":\"\"}},\"type\":\"scattermapbox\"}],\"scatterpolargl\":[{\"marker\":{\"colorbar\":{\"outlinewidth\":0,\"ticks\":\"\"}},\"type\":\"scatterpolargl\"}],\"scatterpolar\":[{\"marker\":{\"colorbar\":{\"outlinewidth\":0,\"ticks\":\"\"}},\"type\":\"scatterpolar\"}],\"scatter\":[{\"marker\":{\"colorbar\":{\"outlinewidth\":0,\"ticks\":\"\"}},\"type\":\"scatter\"}],\"scatterternary\":[{\"marker\":{\"colorbar\":{\"outlinewidth\":0,\"ticks\":\"\"}},\"type\":\"scatterternary\"}],\"surface\":[{\"colorbar\":{\"outlinewidth\":0,\"ticks\":\"\"},\"colorscale\":[[0.0,\"#0d0887\"],[0.1111111111111111,\"#46039f\"],[0.2222222222222222,\"#7201a8\"],[0.3333333333333333,\"#9c179e\"],[0.4444444444444444,\"#bd3786\"],[0.5555555555555556,\"#d8576b\"],[0.6666666666666666,\"#ed7953\"],[0.7777777777777778,\"#fb9f3a\"],[0.8888888888888888,\"#fdca26\"],[1.0,\"#f0f921\"]],\"type\":\"surface\"}],\"table\":[{\"cells\":{\"fill\":{\"color\":\"#EBF0F8\"},\"line\":{\"color\":\"white\"}},\"header\":{\"fill\":{\"color\":\"#C8D4E3\"},\"line\":{\"color\":\"white\"}},\"type\":\"table\"}]},\"layout\":{\"annotationdefaults\":{\"arrowcolor\":\"#2a3f5f\",\"arrowhead\":0,\"arrowwidth\":1},\"autotypenumbers\":\"strict\",\"coloraxis\":{\"colorbar\":{\"outlinewidth\":0,\"ticks\":\"\"}},\"colorscale\":{\"diverging\":[[0,\"#8e0152\"],[0.1,\"#c51b7d\"],[0.2,\"#de77ae\"],[0.3,\"#f1b6da\"],[0.4,\"#fde0ef\"],[0.5,\"#f7f7f7\"],[0.6,\"#e6f5d0\"],[0.7,\"#b8e186\"],[0.8,\"#7fbc41\"],[0.9,\"#4d9221\"],[1,\"#276419\"]],\"sequential\":[[0.0,\"#0d0887\"],[0.1111111111111111,\"#46039f\"],[0.2222222222222222,\"#7201a8\"],[0.3333333333333333,\"#9c179e\"],[0.4444444444444444,\"#bd3786\"],[0.5555555555555556,\"#d8576b\"],[0.6666666666666666,\"#ed7953\"],[0.7777777777777778,\"#fb9f3a\"],[0.8888888888888888,\"#fdca26\"],[1.0,\"#f0f921\"]],\"sequentialminus\":[[0.0,\"#0d0887\"],[0.1111111111111111,\"#46039f\"],[0.2222222222222222,\"#7201a8\"],[0.3333333333333333,\"#9c179e\"],[0.4444444444444444,\"#bd3786\"],[0.5555555555555556,\"#d8576b\"],[0.6666666666666666,\"#ed7953\"],[0.7777777777777778,\"#fb9f3a\"],[0.8888888888888888,\"#fdca26\"],[1.0,\"#f0f921\"]]},\"colorway\":[\"#636efa\",\"#EF553B\",\"#00cc96\",\"#ab63fa\",\"#FFA15A\",\"#19d3f3\",\"#FF6692\",\"#B6E880\",\"#FF97FF\",\"#FECB52\"],\"font\":{\"color\":\"#2a3f5f\"},\"geo\":{\"bgcolor\":\"white\",\"lakecolor\":\"white\",\"landcolor\":\"#E5ECF6\",\"showlakes\":true,\"showland\":true,\"subunitcolor\":\"white\"},\"hoverlabel\":{\"align\":\"left\"},\"hovermode\":\"closest\",\"mapbox\":{\"style\":\"light\"},\"paper_bgcolor\":\"white\",\"plot_bgcolor\":\"#E5ECF6\",\"polar\":{\"angularaxis\":{\"gridcolor\":\"white\",\"linecolor\":\"white\",\"ticks\":\"\"},\"bgcolor\":\"#E5ECF6\",\"radialaxis\":{\"gridcolor\":\"white\",\"linecolor\":\"white\",\"ticks\":\"\"}},\"scene\":{\"xaxis\":{\"backgroundcolor\":\"#E5ECF6\",\"gridcolor\":\"white\",\"gridwidth\":2,\"linecolor\":\"white\",\"showbackground\":true,\"ticks\":\"\",\"zerolinecolor\":\"white\"},\"yaxis\":{\"backgroundcolor\":\"#E5ECF6\",\"gridcolor\":\"white\",\"gridwidth\":2,\"linecolor\":\"white\",\"showbackground\":true,\"ticks\":\"\",\"zerolinecolor\":\"white\"},\"zaxis\":{\"backgroundcolor\":\"#E5ECF6\",\"gridcolor\":\"white\",\"gridwidth\":2,\"linecolor\":\"white\",\"showbackground\":true,\"ticks\":\"\",\"zerolinecolor\":\"white\"}},\"shapedefaults\":{\"line\":{\"color\":\"#2a3f5f\"}},\"ternary\":{\"aaxis\":{\"gridcolor\":\"white\",\"linecolor\":\"white\",\"ticks\":\"\"},\"baxis\":{\"gridcolor\":\"white\",\"linecolor\":\"white\",\"ticks\":\"\"},\"bgcolor\":\"#E5ECF6\",\"caxis\":{\"gridcolor\":\"white\",\"linecolor\":\"white\",\"ticks\":\"\"}},\"title\":{\"x\":0.05},\"xaxis\":{\"automargin\":true,\"gridcolor\":\"white\",\"linecolor\":\"white\",\"ticks\":\"\",\"title\":{\"standoff\":15},\"zerolinecolor\":\"white\",\"zerolinewidth\":2},\"yaxis\":{\"automargin\":true,\"gridcolor\":\"white\",\"linecolor\":\"white\",\"ticks\":\"\",\"title\":{\"standoff\":15},\"zerolinecolor\":\"white\",\"zerolinewidth\":2}}},\"title\":{\"font\":{\"color\":\"#4D5663\"},\"text\":\"Most 20 Frequent words in Train Corpus\"},\"xaxis\":{\"gridcolor\":\"#E1E5ED\",\"showgrid\":true,\"tickfont\":{\"color\":\"#4D5663\"},\"title\":{\"font\":{\"color\":\"#4D5663\"},\"text\":\"Word\"},\"zerolinecolor\":\"#E1E5ED\"},\"yaxis\":{\"gridcolor\":\"#E1E5ED\",\"showgrid\":true,\"tickfont\":{\"color\":\"#4D5663\"},\"title\":{\"font\":{\"color\":\"#4D5663\"},\"text\":\"Count\"},\"zerolinecolor\":\"#E1E5ED\"}},                        {\"showLink\": true, \"linkText\": \"Export to plot.ly\", \"plotlyServerURL\": \"https://plot.ly\", \"responsive\": true}                    ).then(function(){\n",
       "                            \n",
       "var gd = document.getElementById('30f708e9-58aa-423b-a001-c006fb31afaa');\n",
       "var x = new MutationObserver(function (mutations, observer) {{\n",
       "        var display = window.getComputedStyle(gd).display;\n",
       "        if (!display || display === 'none') {{\n",
       "            console.log([gd, 'removed!']);\n",
       "            Plotly.purge(gd);\n",
       "            observer.disconnect();\n",
       "        }}\n",
       "}});\n",
       "\n",
       "// Listen for the removal of the full notebook cells\n",
       "var notebookContainer = gd.closest('#notebook-container');\n",
       "if (notebookContainer) {{\n",
       "    x.observe(notebookContainer, {childList: true});\n",
       "}}\n",
       "\n",
       "// Listen for the clearing of the current output cell\n",
       "var outputEl = gd.closest('.output');\n",
       "if (outputEl) {{\n",
       "    x.observe(outputEl, {childList: true});\n",
       "}}\n",
       "\n",
       "                        })                };                });            </script>        </div>"
      ]
     },
     "metadata": {},
     "output_type": "display_data"
    }
   ],
   "source": [
    "train_words_df.head(20).iplot(x = 'words', y = 'wordCount', kind = 'bar', title = 'Most 20 Frequent words in Train Corpus', yTitle = 'Count', xTitle = 'Word')"
   ]
  },
  {
   "cell_type": "code",
   "execution_count": 37,
   "id": "b495becd-d844-4928-887b-4ba4cbdbce21",
   "metadata": {
    "tags": []
   },
   "outputs": [
    {
     "name": "stdout",
     "output_type": "stream",
     "text": [
      "In the train data there are 2430135 words in total, and 41010 unique words.\n"
     ]
    }
   ],
   "source": [
    "print(f\"In the train data there are {len(all_train_words)} words in total, and {len(train_words_df)} unique words.\")"
   ]
  },
  {
   "cell_type": "code",
   "execution_count": 38,
   "id": "f0bc963e-068e-45a7-840a-a86b12a4acb4",
   "metadata": {
    "tags": []
   },
   "outputs": [
    {
     "data": {
      "text/html": [
       "<div>\n",
       "<style scoped>\n",
       "    .dataframe tbody tr th:only-of-type {\n",
       "        vertical-align: middle;\n",
       "    }\n",
       "\n",
       "    .dataframe tbody tr th {\n",
       "        vertical-align: top;\n",
       "    }\n",
       "\n",
       "    .dataframe thead th {\n",
       "        text-align: right;\n",
       "    }\n",
       "</style>\n",
       "<table border=\"1\" class=\"dataframe\">\n",
       "  <thead>\n",
       "    <tr style=\"text-align: right;\">\n",
       "      <th></th>\n",
       "      <th>q</th>\n",
       "      <th>value</th>\n",
       "      <th>vocabulary_size</th>\n",
       "    </tr>\n",
       "  </thead>\n",
       "  <tbody>\n",
       "    <tr>\n",
       "      <th>19</th>\n",
       "      <td>0.95</td>\n",
       "      <td>124.0</td>\n",
       "      <td>2045</td>\n",
       "    </tr>\n",
       "    <tr>\n",
       "      <th>18</th>\n",
       "      <td>0.90</td>\n",
       "      <td>36.0</td>\n",
       "      <td>4090</td>\n",
       "    </tr>\n",
       "    <tr>\n",
       "      <th>17</th>\n",
       "      <td>0.85</td>\n",
       "      <td>17.0</td>\n",
       "      <td>6089</td>\n",
       "    </tr>\n",
       "    <tr>\n",
       "      <th>16</th>\n",
       "      <td>0.80</td>\n",
       "      <td>10.0</td>\n",
       "      <td>7919</td>\n",
       "    </tr>\n",
       "    <tr>\n",
       "      <th>15</th>\n",
       "      <td>0.75</td>\n",
       "      <td>6.0</td>\n",
       "      <td>10076</td>\n",
       "    </tr>\n",
       "  </tbody>\n",
       "</table>\n",
       "</div>"
      ],
      "text/plain": [
       "       q  value  vocabulary_size\n",
       "19  0.95  124.0             2045\n",
       "18  0.90   36.0             4090\n",
       "17  0.85   17.0             6089\n",
       "16  0.80   10.0             7919\n",
       "15  0.75    6.0            10076"
      ]
     },
     "execution_count": 38,
     "metadata": {},
     "output_type": "execute_result"
    }
   ],
   "source": [
    "l = []\n",
    "for q in np.arange(0,1,0.05):\n",
    "    value = train_words_df.wordCount.quantile(q = q)\n",
    "    vocabulary_size = train_words_df.query(f\"wordCount > {value}\").shape[0]\n",
    "    l.append((q, value, vocabulary_size))\n",
    "pd.DataFrame(l, columns=['q', 'value', 'vocabulary_size']).sort_values(by='value', ascending=False).head(5)"
   ]
  },
  {
   "cell_type": "code",
   "execution_count": 39,
   "id": "fa9489f0-2535-4933-aaac-7afbb5707121",
   "metadata": {
    "tags": []
   },
   "outputs": [
    {
     "name": "stdout",
     "output_type": "stream",
     "text": [
      "Using words with 36 or more appearnces will reduce the corpus size to: 4090.\n"
     ]
    }
   ],
   "source": [
    "print (f\"Using words with 36 or more appearnces will reduce the corpus size to: {sum(train_words_df.wordCount > 36)}.\")"
   ]
  },
  {
   "cell_type": "code",
   "execution_count": 40,
   "id": "8c765626-c664-4aba-8fb9-fb2baa5755f5",
   "metadata": {},
   "outputs": [
    {
     "data": {
      "text/plain": [
       "(4090, 2)"
      ]
     },
     "execution_count": 40,
     "metadata": {},
     "output_type": "execute_result"
    }
   ],
   "source": [
    "filt_train_words_df = train_words_df.query(f\"wordCount > 36\")\n",
    "filt_train_words_df.shape"
   ]
  },
  {
   "cell_type": "code",
   "execution_count": 41,
   "id": "1f917a9e-31fe-421e-acb2-b1aca43b43dd",
   "metadata": {},
   "outputs": [
    {
     "data": {
      "text/plain": [
       "(95990, 4090)"
      ]
     },
     "execution_count": 41,
     "metadata": {},
     "output_type": "execute_result"
    }
   ],
   "source": [
    "vocabulary = set(filt_train_words_df.words)\n",
    "count_vect = CountVectorizer(vocabulary = vocabulary, tokenizer = nltk.word_tokenize)\n",
    "train_bow_counts = count_vect.fit_transform(bow_df_train.clean_description)\n",
    "train_bow_counts.shape"
   ]
  },
  {
   "cell_type": "code",
   "execution_count": 42,
   "id": "c96a5b42-0c49-4cbb-888f-c250b7732d46",
   "metadata": {},
   "outputs": [
    {
     "data": {
      "text/plain": [
       "(23998, 4090)"
      ]
     },
     "execution_count": 42,
     "metadata": {},
     "output_type": "execute_result"
    }
   ],
   "source": [
    "test_bow_counts = count_vect.fit_transform(bow_df_test.clean_description)\n",
    "test_bow_counts.shape"
   ]
  },
  {
   "cell_type": "markdown",
   "id": "17b5f214-5f84-4a14-ba68-6285f6fcf71c",
   "metadata": {
    "tags": []
   },
   "source": [
    "**CHECK:**"
   ]
  },
  {
   "cell_type": "code",
   "execution_count": 43,
   "id": "9e948478-cd01-4671-919d-2c0a1bd4317f",
   "metadata": {
    "tags": []
   },
   "outputs": [
    {
     "data": {
      "text/plain": [
       "'dry brittle mouthfeel watery flavors raspberries combine make wine rustic gets basic pinot noir concept silky smoothness acidity across well enough much else'"
      ]
     },
     "execution_count": 43,
     "metadata": {},
     "output_type": "execute_result"
    }
   ],
   "source": [
    "bow_df_train.iloc[1].clean_description"
   ]
  },
  {
   "cell_type": "code",
   "execution_count": 44,
   "id": "0ab6a646-d7d9-4cb6-a595-2442de13282b",
   "metadata": {
    "tags": []
   },
   "outputs": [
    {
     "name": "stdout",
     "output_type": "stream",
     "text": [
      "  (0, 165)\t1\n",
      "  (0, 168)\t1\n",
      "  (0, 393)\t1\n",
      "  (0, 577)\t1\n",
      "  (0, 831)\t1\n",
      "  (0, 1170)\t1\n",
      "  (0, 1230)\t1\n",
      "  (0, 1262)\t1\n",
      "  (0, 1464)\t1\n",
      "  (0, 1605)\t1\n",
      "  (0, 2159)\t1\n",
      "  (0, 2348)\t1\n",
      "  (0, 2354)\t1\n",
      "  (0, 2424)\t1\n",
      "  (0, 2681)\t1\n",
      "  (0, 2900)\t1\n",
      "  (0, 3090)\t1\n",
      "  (0, 3271)\t1\n",
      "  (0, 3330)\t1\n",
      "  (0, 3950)\t1\n",
      "  (0, 3971)\t1\n",
      "  (0, 4012)\t1\n"
     ]
    }
   ],
   "source": [
    "print(train_bow_counts[1])"
   ]
  },
  {
   "cell_type": "code",
   "execution_count": 45,
   "id": "89587267-aa71-4331-b92c-4453ee285ebf",
   "metadata": {
    "tags": []
   },
   "outputs": [
    {
     "name": "stdout",
     "output_type": "stream",
     "text": [
      "2021\n",
      "aromatic\n",
      "barrels\n",
      "blended\n"
     ]
    }
   ],
   "source": [
    "rev_dict = {v:k for k,v in count_vect.vocabulary_.items()}\n",
    "print(rev_dict[57])\n",
    "print(rev_dict[303])\n",
    "print(rev_dict[389])\n",
    "print(rev_dict[477])"
   ]
  },
  {
   "cell_type": "markdown",
   "id": "4834f6d8-241e-43ab-97c4-dbf49889fafc",
   "metadata": {},
   "source": [
    "**Linear Regerssion:**"
   ]
  },
  {
   "cell_type": "code",
   "execution_count": 46,
   "id": "7359d6c2-7eb2-4ad8-9edb-e216ff6a549e",
   "metadata": {},
   "outputs": [],
   "source": [
    "import numpy as np\n",
    "from sklearn.linear_model import LinearRegression"
   ]
  },
  {
   "cell_type": "code",
   "execution_count": 47,
   "id": "3b323ea4-f01e-4210-9424-075bbb6182c3",
   "metadata": {},
   "outputs": [
    {
     "data": {
      "text/plain": [
       "LinearRegression()"
      ]
     },
     "execution_count": 47,
     "metadata": {},
     "output_type": "execute_result"
    }
   ],
   "source": [
    "bow_linear_reg = LinearRegression()\n",
    "bow_linear_reg.fit(train_bow_counts, train_data.points)"
   ]
  },
  {
   "cell_type": "code",
   "execution_count": 48,
   "id": "69ca1130-1493-447e-b4bd-122054b9ba7e",
   "metadata": {},
   "outputs": [
    {
     "data": {
      "text/plain": [
       "MSE    3.070415\n",
       "MAE    1.373518\n",
       "R2     0.678249\n",
       "Name: bow_linear_reg_score, dtype: float64"
      ]
     },
     "execution_count": 48,
     "metadata": {},
     "output_type": "execute_result"
    }
   ],
   "source": [
    "test_data['bow_linear_reg_pred'] = bow_linear_reg.predict(test_bow_counts)\n",
    "bow_linear_reg_score = calc_prediction_quality(test_data, 'points', 'bow_linear_reg_pred').rename('bow_linear_reg_score')\n",
    "bow_linear_reg_score"
   ]
  },
  {
   "cell_type": "code",
   "execution_count": 49,
   "id": "c03ecfe5-3ffd-460c-a005-620d46fb46e2",
   "metadata": {},
   "outputs": [
    {
     "data": {
      "text/html": [
       "<div>\n",
       "<style scoped>\n",
       "    .dataframe tbody tr th:only-of-type {\n",
       "        vertical-align: middle;\n",
       "    }\n",
       "\n",
       "    .dataframe tbody tr th {\n",
       "        vertical-align: top;\n",
       "    }\n",
       "\n",
       "    .dataframe thead th {\n",
       "        text-align: right;\n",
       "    }\n",
       "</style>\n",
       "<table border=\"1\" class=\"dataframe\">\n",
       "  <thead>\n",
       "    <tr style=\"text-align: right;\">\n",
       "      <th></th>\n",
       "      <th>MSE</th>\n",
       "      <th>MAE</th>\n",
       "      <th>R2</th>\n",
       "    </tr>\n",
       "  </thead>\n",
       "  <tbody>\n",
       "    <tr>\n",
       "      <th>baseline_1_score</th>\n",
       "      <td>9.542911</td>\n",
       "      <td>2.532531</td>\n",
       "      <td>-0.000007</td>\n",
       "    </tr>\n",
       "    <tr>\n",
       "      <th>baseline_2_score</th>\n",
       "      <td>9.037190</td>\n",
       "      <td>2.459464</td>\n",
       "      <td>0.052987</td>\n",
       "    </tr>\n",
       "    <tr>\n",
       "      <th>baseline_3_score</th>\n",
       "      <td>8.491592</td>\n",
       "      <td>2.363831</td>\n",
       "      <td>0.110161</td>\n",
       "    </tr>\n",
       "    <tr>\n",
       "      <th>gbc_clf_score</th>\n",
       "      <td>6.329152</td>\n",
       "      <td>1.908034</td>\n",
       "      <td>0.336764</td>\n",
       "    </tr>\n",
       "    <tr>\n",
       "      <th>bow_linear_reg_score</th>\n",
       "      <td>3.070415</td>\n",
       "      <td>1.373518</td>\n",
       "      <td>0.678249</td>\n",
       "    </tr>\n",
       "  </tbody>\n",
       "</table>\n",
       "</div>"
      ],
      "text/plain": [
       "                           MSE       MAE        R2\n",
       "baseline_1_score      9.542911  2.532531 -0.000007\n",
       "baseline_2_score      9.037190  2.459464  0.052987\n",
       "baseline_3_score      8.491592  2.363831  0.110161\n",
       "gbc_clf_score         6.329152  1.908034  0.336764\n",
       "bow_linear_reg_score  3.070415  1.373518  0.678249"
      ]
     },
     "execution_count": 49,
     "metadata": {},
     "output_type": "execute_result"
    }
   ],
   "source": [
    "all_compared = pd.DataFrame([baseline_1_score, baseline_2_score, baseline_3_score, gbc_clf_score, bow_linear_reg_score],\n",
    "                            index = ['baseline_1_score', 'baseline_2_score', 'baseline_3_score', 'gbc_clf_score', 'bow_linear_reg_score'])\n",
    "all_compared"
   ]
  },
  {
   "cell_type": "markdown",
   "id": "0945e1cb-57fe-49fb-9f46-b484e61c308d",
   "metadata": {},
   "source": [
    "### 3.2) Text and Other Features\n",
    "Using both the text and the other features."
   ]
  },
  {
   "cell_type": "code",
   "execution_count": 50,
   "id": "2fcbfa66-10a8-4c86-9a37-f6b86bbbdf5b",
   "metadata": {},
   "outputs": [],
   "source": [
    "from scipy.sparse import coo_matrix, hstack\n",
    "from sklearn.preprocessing import StandardScaler"
   ]
  },
  {
   "cell_type": "code",
   "execution_count": 51,
   "id": "7ff6cfd4-24e4-4a3e-8f7d-d9c5af3d0273",
   "metadata": {},
   "outputs": [],
   "source": [
    "other_features_train = train_x_encoded\n",
    "other_features_test = test_x_encoded"
   ]
  },
  {
   "cell_type": "code",
   "execution_count": 52,
   "id": "ca93d07f-5102-4a5f-8261-be83774be6cb",
   "metadata": {},
   "outputs": [
    {
     "data": {
      "text/plain": [
       "((95990, 8), (23998, 8))"
      ]
     },
     "execution_count": 52,
     "metadata": {},
     "output_type": "execute_result"
    }
   ],
   "source": [
    "scaler = StandardScaler()\n",
    "other_features_train = scaler.fit_transform(other_features_train)\n",
    "other_features_test = scaler.fit_transform(other_features_test)\n",
    "other_features_train.shape, other_features_test.shape"
   ]
  },
  {
   "cell_type": "code",
   "execution_count": 53,
   "id": "2ecb3316-31cb-4129-a071-1d6f1e3000e0",
   "metadata": {},
   "outputs": [],
   "source": [
    "train_features_spares_matrix = coo_matrix(other_features_train)\n",
    "train_united_features = hstack((train_bow_counts ,train_features_spares_matrix))"
   ]
  },
  {
   "cell_type": "markdown",
   "id": "1ba88304-d4f9-4ee1-8c3d-a34b7660ea28",
   "metadata": {},
   "source": [
    "**Linear Regression:**"
   ]
  },
  {
   "cell_type": "code",
   "execution_count": 54,
   "id": "e065acd2-0cfb-41fe-b05e-89ede0fdb3ad",
   "metadata": {},
   "outputs": [
    {
     "data": {
      "text/plain": [
       "LinearRegression()"
      ]
     },
     "execution_count": 54,
     "metadata": {},
     "output_type": "execute_result"
    }
   ],
   "source": [
    "expanded_bow_linear_reg = LinearRegression()\n",
    "expanded_bow_linear_reg.fit(train_united_features, train_data.points)"
   ]
  },
  {
   "cell_type": "code",
   "execution_count": 55,
   "id": "a0aa24d3-7ce4-4447-b154-d09200f395b5",
   "metadata": {},
   "outputs": [],
   "source": [
    "test_features_spares_matrix = coo_matrix(other_features_test)\n",
    "test_united_features = hstack((test_bow_counts ,test_features_spares_matrix))"
   ]
  },
  {
   "cell_type": "code",
   "execution_count": 56,
   "id": "a2c4e1a6-3d05-4caa-90a2-1c5362607c0b",
   "metadata": {},
   "outputs": [
    {
     "data": {
      "text/plain": [
       "MSE    2.912889\n",
       "MAE    1.334171\n",
       "R2     0.694757\n",
       "Name: expanded_bow_linear_reg, dtype: float64"
      ]
     },
     "execution_count": 56,
     "metadata": {},
     "output_type": "execute_result"
    }
   ],
   "source": [
    "test_data['expanded_bow_linear_reg'] = expanded_bow_linear_reg.predict(test_united_features)\n",
    "expanded_bow_linear_reg = calc_prediction_quality(test_data,'points', 'expanded_bow_linear_reg').rename('expanded_bow_linear_reg')\n",
    "expanded_bow_linear_reg"
   ]
  },
  {
   "cell_type": "code",
   "execution_count": 57,
   "id": "1cb4554f-4dde-432b-ab13-9176d44aa2a2",
   "metadata": {},
   "outputs": [
    {
     "data": {
      "text/html": [
       "<div>\n",
       "<style scoped>\n",
       "    .dataframe tbody tr th:only-of-type {\n",
       "        vertical-align: middle;\n",
       "    }\n",
       "\n",
       "    .dataframe tbody tr th {\n",
       "        vertical-align: top;\n",
       "    }\n",
       "\n",
       "    .dataframe thead th {\n",
       "        text-align: right;\n",
       "    }\n",
       "</style>\n",
       "<table border=\"1\" class=\"dataframe\">\n",
       "  <thead>\n",
       "    <tr style=\"text-align: right;\">\n",
       "      <th></th>\n",
       "      <th>MSE</th>\n",
       "      <th>MAE</th>\n",
       "      <th>R2</th>\n",
       "    </tr>\n",
       "  </thead>\n",
       "  <tbody>\n",
       "    <tr>\n",
       "      <th>baseline_1_score</th>\n",
       "      <td>9.542911</td>\n",
       "      <td>2.532531</td>\n",
       "      <td>-0.000007</td>\n",
       "    </tr>\n",
       "    <tr>\n",
       "      <th>baseline_2_score</th>\n",
       "      <td>9.037190</td>\n",
       "      <td>2.459464</td>\n",
       "      <td>0.052987</td>\n",
       "    </tr>\n",
       "    <tr>\n",
       "      <th>baseline_3_score</th>\n",
       "      <td>8.491592</td>\n",
       "      <td>2.363831</td>\n",
       "      <td>0.110161</td>\n",
       "    </tr>\n",
       "    <tr>\n",
       "      <th>gbc_clf_score</th>\n",
       "      <td>6.329152</td>\n",
       "      <td>1.908034</td>\n",
       "      <td>0.336764</td>\n",
       "    </tr>\n",
       "    <tr>\n",
       "      <th>bow_linear_reg_score</th>\n",
       "      <td>3.070415</td>\n",
       "      <td>1.373518</td>\n",
       "      <td>0.678249</td>\n",
       "    </tr>\n",
       "    <tr>\n",
       "      <th>expanded_bow_linear_reg</th>\n",
       "      <td>2.912889</td>\n",
       "      <td>1.334171</td>\n",
       "      <td>0.694757</td>\n",
       "    </tr>\n",
       "  </tbody>\n",
       "</table>\n",
       "</div>"
      ],
      "text/plain": [
       "                              MSE       MAE        R2\n",
       "baseline_1_score         9.542911  2.532531 -0.000007\n",
       "baseline_2_score         9.037190  2.459464  0.052987\n",
       "baseline_3_score         8.491592  2.363831  0.110161\n",
       "gbc_clf_score            6.329152  1.908034  0.336764\n",
       "bow_linear_reg_score     3.070415  1.373518  0.678249\n",
       "expanded_bow_linear_reg  2.912889  1.334171  0.694757"
      ]
     },
     "execution_count": 57,
     "metadata": {},
     "output_type": "execute_result"
    }
   ],
   "source": [
    "all_compared = all_compared.append(expanded_bow_linear_reg.to_frame().transpose())\n",
    "all_compared"
   ]
  },
  {
   "cell_type": "markdown",
   "id": "445e4cb2-ac44-416f-aa6c-76a355055f64",
   "metadata": {},
   "source": [
    "**Ridge Regression:**\n",
    "Chek whether Regularization would benefit."
   ]
  },
  {
   "cell_type": "code",
   "execution_count": 58,
   "id": "5377b9df-523b-41b7-935e-ed368b7f96e2",
   "metadata": {},
   "outputs": [],
   "source": [
    "from sklearn.linear_model import Ridge\n",
    "from sklearn.model_selection import cross_val_score"
   ]
  },
  {
   "cell_type": "code",
   "execution_count": 59,
   "id": "32f1a9e7-8919-4113-b7a6-9a99d92c25dc",
   "metadata": {},
   "outputs": [],
   "source": [
    "search_grid = np.logspace(-2, 4, num = 50, endpoint = True, base = 10.0)\n",
    "r2_by_alpha = []\n",
    "for alpha in search_grid:\n",
    "    expanded_bow_ridge_reg = Ridge(alpha = alpha)\n",
    "    avg_score = cross_val_score(expanded_bow_ridge_reg, X = train_united_features, y = train_data.points, cv = 10, scoring = 'r2').mean()\n",
    "    r2_by_alpha.append((alpha,avg_score))"
   ]
  },
  {
   "cell_type": "code",
   "execution_count": 60,
   "id": "74696494-483d-4a35-ad8c-aa88de60f0ca",
   "metadata": {},
   "outputs": [
    {
     "data": {
      "application/vnd.plotly.v1+json": {
       "config": {
        "linkText": "Export to plot.ly",
        "plotlyServerURL": "https://plot.ly",
        "showLink": true
       },
       "data": [
        {
         "line": {
          "color": "rgba(255, 153, 51, 1.0)",
          "dash": "solid",
          "shape": "linear",
          "width": 3
         },
         "mode": "lines",
         "name": "r2",
         "text": "",
         "type": "scatter",
         "x": [
          0,
          1,
          2,
          3,
          4,
          5,
          6,
          7,
          8,
          9,
          10,
          11,
          12,
          13,
          14,
          15,
          16,
          17,
          18,
          19,
          20,
          21,
          22,
          23,
          24,
          25,
          26,
          27,
          28,
          29,
          30,
          31,
          32,
          33,
          34,
          35,
          36,
          37,
          38,
          39,
          40,
          41,
          42,
          43,
          44,
          45,
          46,
          47,
          48,
          49
         ],
         "y": [
          0.6965138466634759,
          0.6965275935518364,
          0.6965075352889585,
          0.6965197567092505,
          0.6965226904900945,
          0.6965284593721816,
          0.6965244054624773,
          0.696537056673975,
          0.6965513128438949,
          0.6965581633224307,
          0.6965855729564487,
          0.6965955547429531,
          0.6966384052447019,
          0.6966655134747789,
          0.6967242404698453,
          0.6967915343725151,
          0.6968681238878129,
          0.6969757958637971,
          0.6971169152122683,
          0.6972918192919252,
          0.6975113107193217,
          0.6977694261530434,
          0.6980813805332104,
          0.6984236041601652,
          0.698771277346938,
          0.6991078216556367,
          0.6993815636972444,
          0.6994891547306358,
          0.6993624158793288,
          0.6988392963548475,
          0.697820713389243,
          0.6961724604435652,
          0.6937368564588855,
          0.6904544887933444,
          0.6861742626831149,
          0.6808300911441951,
          0.6743288241125701,
          0.6666230902815654,
          0.6576410832858791,
          0.6473028687410034,
          0.6354723931022311,
          0.6220051264961556,
          0.6067162103828809,
          0.5893640840141628,
          0.5697464071676839,
          0.5477137981735497,
          0.523259393954189,
          0.4965654465287222,
          0.4680261333842859,
          0.43817907049753835
         ]
        }
       ],
       "layout": {
        "autosize": true,
        "legend": {
         "bgcolor": "#F5F6F9",
         "font": {
          "color": "#4D5663"
         }
        },
        "paper_bgcolor": "#F5F6F9",
        "plot_bgcolor": "#F5F6F9",
        "shapes": [
         {
          "line": {
           "color": "#db4052",
           "dash": "solid",
           "width": 1
          },
          "type": "line",
          "x0": 0,
          "x1": 1,
          "xref": "paper",
          "y0": [
           0,
           0
          ],
          "y1": [
           0,
           0
          ],
          "yref": "y"
         }
        ],
        "title": {
         "font": {
          "color": "#4D5663"
         },
         "text": "BOW Counts - R2 as a function of learning rate (alpha)"
        },
        "xaxis": {
         "autorange": true,
         "gridcolor": "#E1E5ED",
         "range": [
          0,
          49
         ],
         "showgrid": true,
         "tickfont": {
          "color": "#4D5663"
         },
         "title": {
          "font": {
           "color": "#4D5663"
          },
          "text": "alpha"
         },
         "type": "linear",
         "zerolinecolor": "#E1E5ED"
        },
        "yaxis": {
         "autorange": true,
         "gridcolor": "#E1E5ED",
         "range": [
          0.4236618435956996,
          0.7140063816324745
         ],
         "showgrid": true,
         "tickfont": {
          "color": "#4D5663"
         },
         "title": {
          "font": {
           "color": "#4D5663"
          },
          "text": "R2"
         },
         "type": "linear",
         "zerolinecolor": "#E1E5ED"
        }
       }
      },
      "image/png": "[encoded data removed]",
      "text/html": [
       "<div>                            <div id=\"87ffd286-29bd-4a94-bcf2-107ac011216d\" class=\"plotly-graph-div\" style=\"height:525px; width:100%;\"></div>            <script type=\"text/javascript\">                require([\"plotly\"], function(Plotly) {                    window.PLOTLYENV=window.PLOTLYENV || {};\n",
       "                    window.PLOTLYENV.BASE_URL='https://plot.ly';                                    if (document.getElementById(\"87ffd286-29bd-4a94-bcf2-107ac011216d\")) {                    Plotly.newPlot(                        \"87ffd286-29bd-4a94-bcf2-107ac011216d\",                        [{\"line\":{\"color\":\"rgba(255, 153, 51, 1.0)\",\"dash\":\"solid\",\"shape\":\"linear\",\"width\":3},\"mode\":\"lines\",\"name\":\"r2\",\"text\":\"\",\"x\":[0,1,2,3,4,5,6,7,8,9,10,11,12,13,14,15,16,17,18,19,20,21,22,23,24,25,26,27,28,29,30,31,32,33,34,35,36,37,38,39,40,41,42,43,44,45,46,47,48,49],\"y\":[0.6965138466634759,0.6965275935518364,0.6965075352889585,0.6965197567092505,0.6965226904900945,0.6965284593721816,0.6965244054624773,0.696537056673975,0.6965513128438949,0.6965581633224307,0.6965855729564487,0.6965955547429531,0.6966384052447019,0.6966655134747789,0.6967242404698453,0.6967915343725151,0.6968681238878129,0.6969757958637971,0.6971169152122683,0.6972918192919252,0.6975113107193217,0.6977694261530434,0.6980813805332104,0.6984236041601652,0.698771277346938,0.6991078216556367,0.6993815636972444,0.6994891547306358,0.6993624158793288,0.6988392963548475,0.697820713389243,0.6961724604435652,0.6937368564588855,0.6904544887933444,0.6861742626831149,0.6808300911441951,0.6743288241125701,0.6666230902815654,0.6576410832858791,0.6473028687410034,0.6354723931022311,0.6220051264961556,0.6067162103828809,0.5893640840141628,0.5697464071676839,0.5477137981735497,0.523259393954189,0.4965654465287222,0.4680261333842859,0.43817907049753835],\"type\":\"scatter\"}],                        {\"legend\":{\"bgcolor\":\"#F5F6F9\",\"font\":{\"color\":\"#4D5663\"}},\"paper_bgcolor\":\"#F5F6F9\",\"plot_bgcolor\":\"#F5F6F9\",\"yaxis\":{\"tickfont\":{\"color\":\"#4D5663\"},\"gridcolor\":\"#E1E5ED\",\"titlefont\":{\"color\":\"#4D5663\"},\"zerolinecolor\":\"#E1E5ED\",\"showgrid\":true,\"title\":\"R2\"},\"xaxis\":{\"tickfont\":{\"color\":\"#4D5663\"},\"gridcolor\":\"#E1E5ED\",\"titlefont\":{\"color\":\"#4D5663\"},\"zerolinecolor\":\"#E1E5ED\",\"showgrid\":true,\"title\":\"alpha\"},\"titlefont\":{\"color\":\"#4D5663\"},\"title\":\"BOW Counts - R2 as a function of learning rate (alpha)\",\"shapes\":[{\"x0\":0,\"y0\":[0,0],\"x1\":1,\"y1\":[0,0],\"line\":{\"color\":\"#db4052\",\"width\":1,\"dash\":\"solid\"},\"xref\":\"paper\",\"yref\":\"y\",\"type\":\"line\"}]},                        {\"showLink\": true, \"linkText\": \"Export to plot.ly\", \"plotlyServerURL\": \"https://plot.ly\", \"responsive\": true}                    ).then(function(){\n",
       "                            \n",
       "var gd = document.getElementById('87ffd286-29bd-4a94-bcf2-107ac011216d');\n",
       "var x = new MutationObserver(function (mutations, observer) {{\n",
       "        var display = window.getComputedStyle(gd).display;\n",
       "        if (!display || display === 'none') {{\n",
       "            console.log([gd, 'removed!']);\n",
       "            Plotly.purge(gd);\n",
       "            observer.disconnect();\n",
       "        }}\n",
       "}});\n",
       "\n",
       "// Listen for the removal of the full notebook cells\n",
       "var notebookContainer = gd.closest('#notebook-container');\n",
       "if (notebookContainer) {{\n",
       "    x.observe(notebookContainer, {childList: true});\n",
       "}}\n",
       "\n",
       "// Listen for the clearing of the current output cell\n",
       "var outputEl = gd.closest('.output');\n",
       "if (outputEl) {{\n",
       "    x.observe(outputEl, {childList: true});\n",
       "}}\n",
       "\n",
       "                        })                };                });            </script>        </div>"
      ]
     },
     "metadata": {},
     "output_type": "display_data"
    }
   ],
   "source": [
    "cv_results = pd.DataFrame(r2_by_alpha, columns = ['alpha', 'r2'])\n",
    "cv_results.r2.iplot(title = 'BOW Counts - R2 as a function of learning rate (alpha)',\n",
    "                    xTitle = 'alpha',\n",
    "                    yTitle = 'R2',\n",
    "                    width = 3,\n",
    "                    hline = (0,0)\n",
    "                   )"
   ]
  },
  {
   "cell_type": "code",
   "execution_count": 61,
   "id": "ec994dff-f06f-45cb-bf2d-87174f0ca097",
   "metadata": {},
   "outputs": [
    {
     "data": {
      "text/plain": [
       "(20.235896477251575, 0.6994891547306358)"
      ]
     },
     "execution_count": 61,
     "metadata": {},
     "output_type": "execute_result"
    }
   ],
   "source": [
    "opt_alpha, opt_r2 = cv_results.loc[cv_results.r2.idxmax()]\n",
    "opt_alpha, opt_r2"
   ]
  },
  {
   "cell_type": "code",
   "execution_count": 62,
   "id": "603ab152-953a-4792-bf9a-0e5fba6d114f",
   "metadata": {},
   "outputs": [
    {
     "data": {
      "text/plain": [
       "Ridge(alpha=20.235896477251575)"
      ]
     },
     "execution_count": 62,
     "metadata": {},
     "output_type": "execute_result"
    }
   ],
   "source": [
    "expanded_bow_ridge_reg = Ridge(alpha = opt_alpha)\n",
    "expanded_bow_ridge_reg.fit(train_united_features, train_data.points)"
   ]
  },
  {
   "cell_type": "code",
   "execution_count": 63,
   "id": "39f37c92-85b7-4f26-9894-ec7291df252a",
   "metadata": {},
   "outputs": [
    {
     "data": {
      "text/plain": [
       "MSE    2.887676\n",
       "MAE    1.328582\n",
       "R2     0.697399\n",
       "Name: expanded_bow_ridge_reg_pred, dtype: float64"
      ]
     },
     "execution_count": 63,
     "metadata": {},
     "output_type": "execute_result"
    }
   ],
   "source": [
    "test_data['expanded_bow_ridge_reg_pred'] = expanded_bow_ridge_reg.predict(test_united_features)\n",
    "expanded_bow_ridge_reg_pred = calc_prediction_quality(test_data, 'points', 'expanded_bow_ridge_reg_pred').rename('expanded_bow_ridge_reg_pred')\n",
    "expanded_bow_ridge_reg_pred"
   ]
  },
  {
   "cell_type": "code",
   "execution_count": 64,
   "id": "da268756-0623-4d6f-aebb-7f73e25e1098",
   "metadata": {},
   "outputs": [
    {
     "data": {
      "text/html": [
       "<div>\n",
       "<style scoped>\n",
       "    .dataframe tbody tr th:only-of-type {\n",
       "        vertical-align: middle;\n",
       "    }\n",
       "\n",
       "    .dataframe tbody tr th {\n",
       "        vertical-align: top;\n",
       "    }\n",
       "\n",
       "    .dataframe thead th {\n",
       "        text-align: right;\n",
       "    }\n",
       "</style>\n",
       "<table border=\"1\" class=\"dataframe\">\n",
       "  <thead>\n",
       "    <tr style=\"text-align: right;\">\n",
       "      <th></th>\n",
       "      <th>MSE</th>\n",
       "      <th>MAE</th>\n",
       "      <th>R2</th>\n",
       "    </tr>\n",
       "  </thead>\n",
       "  <tbody>\n",
       "    <tr>\n",
       "      <th>baseline_1_score</th>\n",
       "      <td>9.542911</td>\n",
       "      <td>2.532531</td>\n",
       "      <td>-0.000007</td>\n",
       "    </tr>\n",
       "    <tr>\n",
       "      <th>baseline_2_score</th>\n",
       "      <td>9.037190</td>\n",
       "      <td>2.459464</td>\n",
       "      <td>0.052987</td>\n",
       "    </tr>\n",
       "    <tr>\n",
       "      <th>baseline_3_score</th>\n",
       "      <td>8.491592</td>\n",
       "      <td>2.363831</td>\n",
       "      <td>0.110161</td>\n",
       "    </tr>\n",
       "    <tr>\n",
       "      <th>gbc_clf_score</th>\n",
       "      <td>6.329152</td>\n",
       "      <td>1.908034</td>\n",
       "      <td>0.336764</td>\n",
       "    </tr>\n",
       "    <tr>\n",
       "      <th>bow_linear_reg_score</th>\n",
       "      <td>3.070415</td>\n",
       "      <td>1.373518</td>\n",
       "      <td>0.678249</td>\n",
       "    </tr>\n",
       "    <tr>\n",
       "      <th>expanded_bow_linear_reg</th>\n",
       "      <td>2.912889</td>\n",
       "      <td>1.334171</td>\n",
       "      <td>0.694757</td>\n",
       "    </tr>\n",
       "    <tr>\n",
       "      <th>expanded_bow_ridge_reg_pred</th>\n",
       "      <td>2.887676</td>\n",
       "      <td>1.328582</td>\n",
       "      <td>0.697399</td>\n",
       "    </tr>\n",
       "  </tbody>\n",
       "</table>\n",
       "</div>"
      ],
      "text/plain": [
       "                                  MSE       MAE        R2\n",
       "baseline_1_score             9.542911  2.532531 -0.000007\n",
       "baseline_2_score             9.037190  2.459464  0.052987\n",
       "baseline_3_score             8.491592  2.363831  0.110161\n",
       "gbc_clf_score                6.329152  1.908034  0.336764\n",
       "bow_linear_reg_score         3.070415  1.373518  0.678249\n",
       "expanded_bow_linear_reg      2.912889  1.334171  0.694757\n",
       "expanded_bow_ridge_reg_pred  2.887676  1.328582  0.697399"
      ]
     },
     "execution_count": 64,
     "metadata": {},
     "output_type": "execute_result"
    }
   ],
   "source": [
    "all_compared = all_compared.append(expanded_bow_ridge_reg_pred.to_frame().transpose())\n",
    "all_compared"
   ]
  },
  {
   "cell_type": "markdown",
   "id": "944b543a-3433-4a76-be20-1db1140326cd",
   "metadata": {
    "tags": []
   },
   "source": [
    "## 4) Deep Learning approaches"
   ]
  },
  {
   "cell_type": "markdown",
   "id": "1c095c21-e43e-4653-91b2-0f8efd013474",
   "metadata": {},
   "source": [
    "### 4.1) Simple NN Prediction"
   ]
  },
  {
   "cell_type": "code",
   "execution_count": 65,
   "id": "17d0039b-860e-42d0-bfd5-21af49db7ea2",
   "metadata": {},
   "outputs": [],
   "source": [
    "import tensorflow as tf\n",
    "from tensorflow.keras.models import Sequential\n",
    "from tensorflow.keras.layers import Dense, Dropout, Activation\n",
    "from tensorflow.keras.optimizers import Adam\n",
    "from tensorflow.keras.callbacks import EarlyStopping"
   ]
  },
  {
   "cell_type": "code",
   "execution_count": 127,
   "id": "ad4f2997-0fc6-4b83-8a3f-5d88f259be26",
   "metadata": {},
   "outputs": [],
   "source": [
    "dnn_model = Sequential()\n",
    "dnn_model.add(Dense(256, input_dim = 8))\n",
    "dnn_model.add(Activation('relu'))\n",
    "dnn_model.add(Dense(1))\n",
    "dnn_model.add(Activation('linear'))"
   ]
  },
  {
   "cell_type": "code",
   "execution_count": 128,
   "id": "c3eabb82-3808-4590-b835-a6158d45b8bf",
   "metadata": {},
   "outputs": [],
   "source": [
    "optimizer = Adam(learning_rate = 0.001)"
   ]
  },
  {
   "cell_type": "code",
   "execution_count": 129,
   "id": "3733c45a-c737-4f41-aea9-4bef596fecf3",
   "metadata": {},
   "outputs": [],
   "source": [
    "dnn_model.compile(optimizer = optimizer,\n",
    "                  loss = 'mean_squared_error',\n",
    "                  metrics = ['mean_squared_error','mean_absolute_error']\n",
    "                 )"
   ]
  },
  {
   "cell_type": "code",
   "execution_count": 130,
   "id": "de90ad7f-c0f3-46aa-9e3a-10af99003b9e",
   "metadata": {},
   "outputs": [],
   "source": [
    "early_stopping_monitor = EarlyStopping(monitor = 'val_loss',\n",
    "                                       min_delta = 0,\n",
    "                                       patience = 5,\n",
    "                                       verbose = 0,\n",
    "                                       restore_best_weights = True\n",
    "                                      )"
   ]
  },
  {
   "cell_type": "code",
   "execution_count": 131,
   "id": "f7b0945b-29a5-4141-8f57-b5cb159e6dd1",
   "metadata": {},
   "outputs": [
    {
     "name": "stdout",
     "output_type": "stream",
     "text": [
      "Epoch 1/100\n",
      "1920/1920 [==============================] - 2s 921us/step - loss: 470.9062 - mean_squared_error: 470.9062 - mean_absolute_error: 14.2851 - val_loss: 194.6836 - val_mean_squared_error: 194.6836 - val_mean_absolute_error: 10.7785\n",
      "Epoch 2/100\n",
      "1920/1920 [==============================] - 2s 1ms/step - loss: 253.5015 - mean_squared_error: 253.5015 - mean_absolute_error: 12.4231 - val_loss: 166.6944 - val_mean_squared_error: 166.6944 - val_mean_absolute_error: 10.0127\n",
      "Epoch 3/100\n",
      "1920/1920 [==============================] - 2s 1ms/step - loss: 205.5007 - mean_squared_error: 205.5007 - mean_absolute_error: 11.2181 - val_loss: 135.3189 - val_mean_squared_error: 135.3189 - val_mean_absolute_error: 8.9836\n",
      "Epoch 4/100\n",
      "1920/1920 [==============================] - 2s 871us/step - loss: 181.3310 - mean_squared_error: 181.3310 - mean_absolute_error: 10.5619 - val_loss: 112.5870 - val_mean_squared_error: 112.5870 - val_mean_absolute_error: 8.4009\n",
      "Epoch 5/100\n",
      "1920/1920 [==============================] - 2s 864us/step - loss: 147.8089 - mean_squared_error: 147.8089 - mean_absolute_error: 9.5468 - val_loss: 93.9859 - val_mean_squared_error: 93.9859 - val_mean_absolute_error: 7.5663\n",
      "Epoch 6/100\n",
      "1920/1920 [==============================] - 2s 870us/step - loss: 133.4025 - mean_squared_error: 133.4025 - mean_absolute_error: 8.9721 - val_loss: 71.3048 - val_mean_squared_error: 71.3048 - val_mean_absolute_error: 6.6418\n",
      "Epoch 7/100\n",
      "1920/1920 [==============================] - 2s 987us/step - loss: 123.5300 - mean_squared_error: 123.5300 - mean_absolute_error: 8.6145 - val_loss: 75.9114 - val_mean_squared_error: 75.9114 - val_mean_absolute_error: 6.8478\n",
      "Epoch 8/100\n",
      "1920/1920 [==============================] - 2s 1ms/step - loss: 109.6469 - mean_squared_error: 109.6469 - mean_absolute_error: 8.0604 - val_loss: 57.1697 - val_mean_squared_error: 57.1697 - val_mean_absolute_error: 5.9005\n",
      "Epoch 9/100\n",
      "1920/1920 [==============================] - 2s 1ms/step - loss: 96.3966 - mean_squared_error: 96.3966 - mean_absolute_error: 7.5758 - val_loss: 45.9013 - val_mean_squared_error: 45.9013 - val_mean_absolute_error: 5.2415\n",
      "Epoch 10/100\n",
      "1920/1920 [==============================] - 2s 1ms/step - loss: 89.2408 - mean_squared_error: 89.2408 - mean_absolute_error: 7.2988 - val_loss: 75.2936 - val_mean_squared_error: 75.2936 - val_mean_absolute_error: 7.0340\n",
      "Epoch 11/100\n",
      "1920/1920 [==============================] - 2s 1ms/step - loss: 85.1321 - mean_squared_error: 85.1321 - mean_absolute_error: 7.0308 - val_loss: 43.3726 - val_mean_squared_error: 43.3725 - val_mean_absolute_error: 5.1239\n",
      "Epoch 12/100\n",
      "1920/1920 [==============================] - 2s 1ms/step - loss: 77.2258 - mean_squared_error: 77.2258 - mean_absolute_error: 6.7123 - val_loss: 71.5202 - val_mean_squared_error: 71.5202 - val_mean_absolute_error: 6.7128\n",
      "Epoch 13/100\n",
      "1920/1920 [==============================] - 2s 1ms/step - loss: 80.6852 - mean_squared_error: 80.6852 - mean_absolute_error: 6.8305 - val_loss: 50.1369 - val_mean_squared_error: 50.1369 - val_mean_absolute_error: 5.4718\n",
      "Epoch 14/100\n",
      "1920/1920 [==============================] - 2s 1ms/step - loss: 76.5803 - mean_squared_error: 76.5803 - mean_absolute_error: 6.6209 - val_loss: 44.8000 - val_mean_squared_error: 44.8000 - val_mean_absolute_error: 5.0873\n",
      "Epoch 15/100\n",
      "1920/1920 [==============================] - 2s 1ms/step - loss: 68.6565 - mean_squared_error: 68.6565 - mean_absolute_error: 6.2473 - val_loss: 48.1339 - val_mean_squared_error: 48.1339 - val_mean_absolute_error: 5.3987\n",
      "Epoch 16/100\n",
      "1920/1920 [==============================] - 2s 986us/step - loss: 69.7224 - mean_squared_error: 69.7224 - mean_absolute_error: 6.3616 - val_loss: 34.0731 - val_mean_squared_error: 34.0731 - val_mean_absolute_error: 4.5064\n",
      "Epoch 17/100\n",
      "1920/1920 [==============================] - 2s 1ms/step - loss: 63.4382 - mean_squared_error: 63.4382 - mean_absolute_error: 6.0474 - val_loss: 31.3078 - val_mean_squared_error: 31.3078 - val_mean_absolute_error: 4.2819\n",
      "Epoch 18/100\n",
      "1920/1920 [==============================] - 2s 1ms/step - loss: 62.9515 - mean_squared_error: 62.9515 - mean_absolute_error: 5.8970 - val_loss: 26.0004 - val_mean_squared_error: 26.0004 - val_mean_absolute_error: 3.8875\n",
      "Epoch 19/100\n",
      "1920/1920 [==============================] - 2s 1ms/step - loss: 58.3740 - mean_squared_error: 58.3740 - mean_absolute_error: 5.7423 - val_loss: 40.8271 - val_mean_squared_error: 40.8271 - val_mean_absolute_error: 5.1520\n",
      "Epoch 20/100\n",
      "1920/1920 [==============================] - 2s 1ms/step - loss: 56.1046 - mean_squared_error: 56.1046 - mean_absolute_error: 5.7013 - val_loss: 272.0756 - val_mean_squared_error: 272.0756 - val_mean_absolute_error: 14.7619\n",
      "Epoch 21/100\n",
      "1920/1920 [==============================] - 2s 1ms/step - loss: 55.0795 - mean_squared_error: 55.0795 - mean_absolute_error: 5.6195 - val_loss: 27.6907 - val_mean_squared_error: 27.6907 - val_mean_absolute_error: 4.1131\n",
      "Epoch 22/100\n",
      "1920/1920 [==============================] - 2s 1ms/step - loss: 49.1573 - mean_squared_error: 49.1573 - mean_absolute_error: 5.2900 - val_loss: 133.1111 - val_mean_squared_error: 133.1111 - val_mean_absolute_error: 9.6873\n",
      "Epoch 23/100\n",
      "1920/1920 [==============================] - 2s 1ms/step - loss: 65.0855 - mean_squared_error: 65.0855 - mean_absolute_error: 5.8758 - val_loss: 35.9152 - val_mean_squared_error: 35.9152 - val_mean_absolute_error: 4.7898\n"
     ]
    },
    {
     "data": {
      "text/plain": [
       "<keras.callbacks.History at 0x7fadb7b90af0>"
      ]
     },
     "execution_count": 131,
     "metadata": {},
     "output_type": "execute_result"
    }
   ],
   "source": [
    "dnn_model.fit(x = train_x_encoded,\n",
    "              y = train_y_encoded,\n",
    "              validation_data = (test_x_encoded, test_y_encoded),\n",
    "              batch_size = 50,\n",
    "              epochs = 100,\n",
    "              verbose = True,\n",
    "              callbacks = [early_stopping_monitor]\n",
    "             )"
   ]
  },
  {
   "cell_type": "code",
   "execution_count": 134,
   "id": "de96e53e-f350-47f5-bb6c-a4c010feb162",
   "metadata": {},
   "outputs": [],
   "source": [
    "test_data['dnn_pred'] = dnn_model.predict(test_x_encoded)"
   ]
  },
  {
   "cell_type": "code",
   "execution_count": 135,
   "id": "10ccbb3a-05a8-440f-8f42-e4cbafe9280a",
   "metadata": {},
   "outputs": [
    {
     "data": {
      "text/plain": [
       "MSE    26.000381\n",
       "MAE     3.887531\n",
       "R2     -1.724596\n",
       "Name: dnn_pred, dtype: float64"
      ]
     },
     "execution_count": 135,
     "metadata": {},
     "output_type": "execute_result"
    }
   ],
   "source": [
    "dnn_pred_score = calc_prediction_quality(test_data, 'points', 'dnn_pred').rename('dnn_pred')\n",
    "dnn_pred_score"
   ]
  },
  {
   "cell_type": "code",
   "execution_count": 144,
   "id": "b6da09c0-a495-4d09-9f66-615314f75456",
   "metadata": {},
   "outputs": [
    {
     "data": {
      "text/html": [
       "<div>\n",
       "<style scoped>\n",
       "    .dataframe tbody tr th:only-of-type {\n",
       "        vertical-align: middle;\n",
       "    }\n",
       "\n",
       "    .dataframe tbody tr th {\n",
       "        vertical-align: top;\n",
       "    }\n",
       "\n",
       "    .dataframe thead th {\n",
       "        text-align: right;\n",
       "    }\n",
       "</style>\n",
       "<table border=\"1\" class=\"dataframe\">\n",
       "  <thead>\n",
       "    <tr style=\"text-align: right;\">\n",
       "      <th></th>\n",
       "      <th>MSE</th>\n",
       "      <th>MAE</th>\n",
       "      <th>R2</th>\n",
       "    </tr>\n",
       "  </thead>\n",
       "  <tbody>\n",
       "    <tr>\n",
       "      <th>baseline_1_score</th>\n",
       "      <td>9.542911</td>\n",
       "      <td>2.532531</td>\n",
       "      <td>-0.000007</td>\n",
       "    </tr>\n",
       "    <tr>\n",
       "      <th>baseline_2_score</th>\n",
       "      <td>9.037190</td>\n",
       "      <td>2.459464</td>\n",
       "      <td>0.052987</td>\n",
       "    </tr>\n",
       "    <tr>\n",
       "      <th>baseline_3_score</th>\n",
       "      <td>8.491592</td>\n",
       "      <td>2.363831</td>\n",
       "      <td>0.110161</td>\n",
       "    </tr>\n",
       "    <tr>\n",
       "      <th>gbc_clf_score</th>\n",
       "      <td>6.329152</td>\n",
       "      <td>1.908034</td>\n",
       "      <td>0.336764</td>\n",
       "    </tr>\n",
       "    <tr>\n",
       "      <th>bow_linear_reg_score</th>\n",
       "      <td>3.070415</td>\n",
       "      <td>1.373518</td>\n",
       "      <td>0.678249</td>\n",
       "    </tr>\n",
       "    <tr>\n",
       "      <th>expanded_bow_linear_reg</th>\n",
       "      <td>2.912889</td>\n",
       "      <td>1.334171</td>\n",
       "      <td>0.694757</td>\n",
       "    </tr>\n",
       "    <tr>\n",
       "      <th>expanded_bow_ridge_reg_pred</th>\n",
       "      <td>2.887676</td>\n",
       "      <td>1.328582</td>\n",
       "      <td>0.697399</td>\n",
       "    </tr>\n",
       "    <tr>\n",
       "      <th>dnn_pred</th>\n",
       "      <td>158.636274</td>\n",
       "      <td>10.176998</td>\n",
       "      <td>-15.623592</td>\n",
       "    </tr>\n",
       "    <tr>\n",
       "      <th>embedding_pred_score</th>\n",
       "      <td>3.778059</td>\n",
       "      <td>1.527535</td>\n",
       "      <td>0.604095</td>\n",
       "    </tr>\n",
       "    <tr>\n",
       "      <th>external_embd_model</th>\n",
       "      <td>4.853125</td>\n",
       "      <td>1.743101</td>\n",
       "      <td>0.491438</td>\n",
       "    </tr>\n",
       "    <tr>\n",
       "      <th>dnn_pred</th>\n",
       "      <td>26.000381</td>\n",
       "      <td>3.887531</td>\n",
       "      <td>-1.724596</td>\n",
       "    </tr>\n",
       "  </tbody>\n",
       "</table>\n",
       "</div>"
      ],
      "text/plain": [
       "                                    MSE        MAE         R2\n",
       "baseline_1_score               9.542911   2.532531  -0.000007\n",
       "baseline_2_score               9.037190   2.459464   0.052987\n",
       "baseline_3_score               8.491592   2.363831   0.110161\n",
       "gbc_clf_score                  6.329152   1.908034   0.336764\n",
       "bow_linear_reg_score           3.070415   1.373518   0.678249\n",
       "expanded_bow_linear_reg        2.912889   1.334171   0.694757\n",
       "expanded_bow_ridge_reg_pred    2.887676   1.328582   0.697399\n",
       "dnn_pred                     158.636274  10.176998 -15.623592\n",
       "embedding_pred_score           3.778059   1.527535   0.604095\n",
       "external_embd_model            4.853125   1.743101   0.491438\n",
       "dnn_pred                      26.000381   3.887531  -1.724596"
      ]
     },
     "execution_count": 144,
     "metadata": {},
     "output_type": "execute_result"
    }
   ],
   "source": [
    "all_compared = all_compared.append(dnn_pred_score.to_frame().transpose())\n",
    "all_compared"
   ]
  },
  {
   "cell_type": "markdown",
   "id": "d46881fe-1825-4d76-a020-1df7e30ef45c",
   "metadata": {},
   "source": [
    "### 4.2) Fully connected network on the text only"
   ]
  },
  {
   "cell_type": "code",
   "execution_count": 74,
   "id": "fcf75419-fb0f-4bc0-8461-f92736827534",
   "metadata": {},
   "outputs": [],
   "source": [
    "import tensorflow as tf\n",
    "from tensorflow.keras.layers import TextVectorization, Embedding, Dense, GlobalAveragePooling1D, Dropout\n",
    "from tensorflow.keras.callbacks import EarlyStopping\n",
    "from tensorflow.keras.activations import softmax"
   ]
  },
  {
   "cell_type": "code",
   "execution_count": 75,
   "id": "e39dba20-1939-4ae6-af8f-8a0b46cd1611",
   "metadata": {},
   "outputs": [
    {
     "data": {
      "text/plain": [
       "0.90    55.0\n",
       "0.95    60.0\n",
       "0.99    72.0\n",
       "Name: description, dtype: float64"
      ]
     },
     "execution_count": 75,
     "metadata": {},
     "output_type": "execute_result"
    }
   ],
   "source": [
    "wine_review.description.apply(lambda x: len(x.split(' '))).quantile([0.9, 0.95, 0.99])"
   ]
  },
  {
   "cell_type": "code",
   "execution_count": 76,
   "id": "020eec4b-3201-4c64-a057-c1e2e3a0cff7",
   "metadata": {},
   "outputs": [],
   "source": [
    "vocab_size = len(train_words_df)\n",
    "sequence_length = 72\n",
    "\n",
    "vectorize_layer = TextVectorization(standardize='lower_and_strip_punctuation',\n",
    "                                    max_tokens=vocab_size,    \n",
    "                                    split='whitespace',\n",
    "                                    output_mode='int',\n",
    "                                    name = 'Text_processing',\n",
    "                                    output_sequence_length=sequence_length\n",
    "                                   )"
   ]
  },
  {
   "cell_type": "code",
   "execution_count": 77,
   "id": "7dce4377-3da2-4dad-a565-da0be636287f",
   "metadata": {},
   "outputs": [],
   "source": [
    "vectorize_layer.adapt(train_data['description'])"
   ]
  },
  {
   "cell_type": "code",
   "execution_count": 78,
   "id": "175df477-c791-4a98-bd7a-ab4a7de26b34",
   "metadata": {},
   "outputs": [],
   "source": [
    "embedding_dim = 30\n",
    "\n",
    "embedding_model = tf.keras.Sequential([tf.keras.Input(shape = (1,), dtype = tf.string),\n",
    "                                       vectorize_layer,\n",
    "                                       Embedding(input_dim = vocab_size, output_dim = embedding_dim, name = \"embedding\"),\n",
    "                                       GlobalAveragePooling1D(),\n",
    "                                       Dense(164, activation = 'relu', name = 'hidden_layer'),\n",
    "                                       Dropout(0.2),\n",
    "                                       Dense(1, name = 'output_layer')\n",
    "                                      ])"
   ]
  },
  {
   "cell_type": "code",
   "execution_count": 79,
   "id": "0d41e3dd-9403-4be8-b2f2-0909467bae64",
   "metadata": {},
   "outputs": [
    {
     "name": "stdout",
     "output_type": "stream",
     "text": [
      "Model: \"sequential_1\"\n",
      "_________________________________________________________________\n",
      " Layer (type)                Output Shape              Param #   \n",
      "=================================================================\n",
      " Text_processing (TextVector  (None, 72)               0         \n",
      " ization)                                                        \n",
      "                                                                 \n",
      " embedding (Embedding)       (None, 72, 30)            1230300   \n",
      "                                                                 \n",
      " global_average_pooling1d (G  (None, 30)               0         \n",
      " lobalAveragePooling1D)                                          \n",
      "                                                                 \n",
      " hidden_layer (Dense)        (None, 164)               5084      \n",
      "                                                                 \n",
      " dropout (Dropout)           (None, 164)               0         \n",
      "                                                                 \n",
      " output_layer (Dense)        (None, 1)                 165       \n",
      "                                                                 \n",
      "=================================================================\n",
      "Total params: 1,235,549\n",
      "Trainable params: 1,235,549\n",
      "Non-trainable params: 0\n",
      "_________________________________________________________________\n"
     ]
    }
   ],
   "source": [
    "embedding_model.summary()"
   ]
  },
  {
   "cell_type": "code",
   "execution_count": 80,
   "id": "53d6731a-2133-466a-b54c-e19ef9e1b8ae",
   "metadata": {},
   "outputs": [],
   "source": [
    "embedding_model.compile(optimizer = tf.optimizers.Adam(),\n",
    "                        loss = 'mean_absolute_error',\n",
    "                        metrics = ['mean_squared_error','mean_absolute_error']\n",
    "                       )"
   ]
  },
  {
   "cell_type": "code",
   "execution_count": 81,
   "id": "0e22a57c-50e9-491a-a703-6fc930b6cd33",
   "metadata": {},
   "outputs": [],
   "source": [
    "early_stopping_monitor = EarlyStopping(monitor = 'val_mean_squared_error',\n",
    "                                       min_delta = 0,\n",
    "                                       patience = 2,\n",
    "                                       verbose = 0,\n",
    "                                       restore_best_weights=True\n",
    "                                      )"
   ]
  },
  {
   "cell_type": "code",
   "execution_count": 82,
   "id": "ef004b34-1a30-4fa7-a06d-67876aa19cd2",
   "metadata": {},
   "outputs": [
    {
     "name": "stdout",
     "output_type": "stream",
     "text": [
      "Epoch 1/20\n",
      "750/750 [==============================] - 6s 7ms/step - loss: 21.9269 - mean_squared_error: 1397.1528 - mean_absolute_error: 21.9269 - val_loss: 2.2298 - val_mean_squared_error: 8.2763 - val_mean_absolute_error: 2.2298\n",
      "Epoch 2/20\n",
      "750/750 [==============================] - 5s 6ms/step - loss: 4.9562 - mean_squared_error: 38.7248 - mean_absolute_error: 4.9562 - val_loss: 1.9126 - val_mean_squared_error: 5.9624 - val_mean_absolute_error: 1.9126\n",
      "Epoch 3/20\n",
      "750/750 [==============================] - 5s 7ms/step - loss: 4.8452 - mean_squared_error: 36.9615 - mean_absolute_error: 4.8452 - val_loss: 1.8046 - val_mean_squared_error: 5.3697 - val_mean_absolute_error: 1.8046\n",
      "Epoch 4/20\n",
      "750/750 [==============================] - 5s 7ms/step - loss: 4.7650 - mean_squared_error: 35.8976 - mean_absolute_error: 4.7650 - val_loss: 1.7476 - val_mean_squared_error: 5.0254 - val_mean_absolute_error: 1.7476\n",
      "Epoch 5/20\n",
      "750/750 [==============================] - 5s 7ms/step - loss: 4.7508 - mean_squared_error: 35.5389 - mean_absolute_error: 4.7508 - val_loss: 1.6850 - val_mean_squared_error: 4.6580 - val_mean_absolute_error: 1.6850\n",
      "Epoch 6/20\n",
      "750/750 [==============================] - 5s 7ms/step - loss: 4.7204 - mean_squared_error: 34.9715 - mean_absolute_error: 4.7204 - val_loss: 1.6438 - val_mean_squared_error: 4.3309 - val_mean_absolute_error: 1.6438\n",
      "Epoch 7/20\n",
      "750/750 [==============================] - 5s 7ms/step - loss: 4.6532 - mean_squared_error: 34.2406 - mean_absolute_error: 4.6532 - val_loss: 1.5891 - val_mean_squared_error: 4.0954 - val_mean_absolute_error: 1.5891\n",
      "Epoch 8/20\n",
      "750/750 [==============================] - 5s 6ms/step - loss: 4.6353 - mean_squared_error: 33.9821 - mean_absolute_error: 4.6353 - val_loss: 1.6047 - val_mean_squared_error: 4.2139 - val_mean_absolute_error: 1.6047\n",
      "Epoch 9/20\n",
      "750/750 [==============================] - 5s 7ms/step - loss: 4.6514 - mean_squared_error: 34.0862 - mean_absolute_error: 4.6514 - val_loss: 1.5602 - val_mean_squared_error: 3.9646 - val_mean_absolute_error: 1.5602\n",
      "Epoch 10/20\n",
      "750/750 [==============================] - 5s 7ms/step - loss: 4.5998 - mean_squared_error: 33.3645 - mean_absolute_error: 4.5998 - val_loss: 1.5473 - val_mean_squared_error: 3.8670 - val_mean_absolute_error: 1.5473\n",
      "Epoch 11/20\n",
      "750/750 [==============================] - 5s 7ms/step - loss: 4.5670 - mean_squared_error: 32.9137 - mean_absolute_error: 4.5670 - val_loss: 1.5275 - val_mean_squared_error: 3.7781 - val_mean_absolute_error: 1.5275\n",
      "Epoch 12/20\n",
      "750/750 [==============================] - 5s 7ms/step - loss: 4.5642 - mean_squared_error: 32.8306 - mean_absolute_error: 4.5642 - val_loss: 1.5573 - val_mean_squared_error: 3.9835 - val_mean_absolute_error: 1.5573\n",
      "Epoch 13/20\n",
      "750/750 [==============================] - 5s 7ms/step - loss: 4.5320 - mean_squared_error: 32.3742 - mean_absolute_error: 4.5320 - val_loss: 1.5646 - val_mean_squared_error: 4.0146 - val_mean_absolute_error: 1.5646\n",
      "CPU times: user 2min 51s, sys: 25.8 s, total: 3min 17s\n",
      "Wall time: 1min 5s\n"
     ]
    }
   ],
   "source": [
    "%%time\n",
    "history = embedding_model.fit(x = bow_df_train['clean_description'],\n",
    "                              y = train_data['points'],\n",
    "                              epochs = 20,\n",
    "                              batch_size = 128,\n",
    "                              verbose = 1,\n",
    "                              callbacks = [early_stopping_monitor],\n",
    "                              validation_data = (bow_df_test['clean_description'], test_data['points'])\n",
    "                             )"
   ]
  },
  {
   "cell_type": "code",
   "execution_count": 83,
   "id": "48ec4996-42c3-4ff8-b525-a83d91d6176e",
   "metadata": {},
   "outputs": [],
   "source": [
    "test_data['embedding_prediction'] = embedding_model.predict(bow_df_test['clean_description'])"
   ]
  },
  {
   "cell_type": "code",
   "execution_count": 84,
   "id": "0b66004c-f432-4f19-b69e-1ebdb95feb82",
   "metadata": {},
   "outputs": [
    {
     "data": {
      "text/plain": [
       "MSE    3.778059\n",
       "MAE    1.527535\n",
       "R2     0.604095\n",
       "dtype: float64"
      ]
     },
     "execution_count": 84,
     "metadata": {},
     "output_type": "execute_result"
    }
   ],
   "source": [
    "embedding_pred_score = calc_prediction_quality(test_data, 'points', 'embedding_prediction')\n",
    "embedding_pred_score"
   ]
  },
  {
   "cell_type": "code",
   "execution_count": 85,
   "id": "96702b58-83ea-4032-942f-14d6a15c04c0",
   "metadata": {},
   "outputs": [
    {
     "data": {
      "text/html": [
       "<div>\n",
       "<style scoped>\n",
       "    .dataframe tbody tr th:only-of-type {\n",
       "        vertical-align: middle;\n",
       "    }\n",
       "\n",
       "    .dataframe tbody tr th {\n",
       "        vertical-align: top;\n",
       "    }\n",
       "\n",
       "    .dataframe thead th {\n",
       "        text-align: right;\n",
       "    }\n",
       "</style>\n",
       "<table border=\"1\" class=\"dataframe\">\n",
       "  <thead>\n",
       "    <tr style=\"text-align: right;\">\n",
       "      <th></th>\n",
       "      <th>MSE</th>\n",
       "      <th>MAE</th>\n",
       "      <th>R2</th>\n",
       "    </tr>\n",
       "  </thead>\n",
       "  <tbody>\n",
       "    <tr>\n",
       "      <th>baseline_1_score</th>\n",
       "      <td>9.542911</td>\n",
       "      <td>2.532531</td>\n",
       "      <td>-0.000007</td>\n",
       "    </tr>\n",
       "    <tr>\n",
       "      <th>baseline_2_score</th>\n",
       "      <td>9.037190</td>\n",
       "      <td>2.459464</td>\n",
       "      <td>0.052987</td>\n",
       "    </tr>\n",
       "    <tr>\n",
       "      <th>baseline_3_score</th>\n",
       "      <td>8.491592</td>\n",
       "      <td>2.363831</td>\n",
       "      <td>0.110161</td>\n",
       "    </tr>\n",
       "    <tr>\n",
       "      <th>gbc_clf_score</th>\n",
       "      <td>6.329152</td>\n",
       "      <td>1.908034</td>\n",
       "      <td>0.336764</td>\n",
       "    </tr>\n",
       "    <tr>\n",
       "      <th>bow_linear_reg_score</th>\n",
       "      <td>3.070415</td>\n",
       "      <td>1.373518</td>\n",
       "      <td>0.678249</td>\n",
       "    </tr>\n",
       "    <tr>\n",
       "      <th>expanded_bow_linear_reg</th>\n",
       "      <td>2.912889</td>\n",
       "      <td>1.334171</td>\n",
       "      <td>0.694757</td>\n",
       "    </tr>\n",
       "    <tr>\n",
       "      <th>expanded_bow_ridge_reg_pred</th>\n",
       "      <td>2.887676</td>\n",
       "      <td>1.328582</td>\n",
       "      <td>0.697399</td>\n",
       "    </tr>\n",
       "    <tr>\n",
       "      <th>dnn_pred</th>\n",
       "      <td>158.636274</td>\n",
       "      <td>10.176998</td>\n",
       "      <td>-15.623592</td>\n",
       "    </tr>\n",
       "    <tr>\n",
       "      <th>embedding_pred_score</th>\n",
       "      <td>3.778059</td>\n",
       "      <td>1.527535</td>\n",
       "      <td>0.604095</td>\n",
       "    </tr>\n",
       "  </tbody>\n",
       "</table>\n",
       "</div>"
      ],
      "text/plain": [
       "                                    MSE        MAE         R2\n",
       "baseline_1_score               9.542911   2.532531  -0.000007\n",
       "baseline_2_score               9.037190   2.459464   0.052987\n",
       "baseline_3_score               8.491592   2.363831   0.110161\n",
       "gbc_clf_score                  6.329152   1.908034   0.336764\n",
       "bow_linear_reg_score           3.070415   1.373518   0.678249\n",
       "expanded_bow_linear_reg        2.912889   1.334171   0.694757\n",
       "expanded_bow_ridge_reg_pred    2.887676   1.328582   0.697399\n",
       "dnn_pred                     158.636274  10.176998 -15.623592\n",
       "embedding_pred_score           3.778059   1.527535   0.604095"
      ]
     },
     "execution_count": 85,
     "metadata": {},
     "output_type": "execute_result"
    }
   ],
   "source": [
    "all_compared = all_compared.append(embedding_pred_score.to_frame(name = 'embedding_pred_score').transpose())\n",
    "all_compared"
   ]
  },
  {
   "cell_type": "markdown",
   "id": "73216a5b-7d5c-4c3e-9483-09d70f073168",
   "metadata": {
    "tags": []
   },
   "source": [
    "New running with (1) lower embedding dimention, (2) softamx activation function (the points are between 80 to 100, 21 different values)."
   ]
  },
  {
   "cell_type": "code",
   "execution_count": 86,
   "id": "3fad61c5-455f-476a-9d5e-e2c269db0d34",
   "metadata": {
    "jupyter": {
     "source_hidden": true
    },
    "tags": []
   },
   "outputs": [],
   "source": [
    "# embedding_dim1 = 30\n",
    "\n",
    "# model_3 = tf.keras.Sequential([\n",
    "#     tf.keras.Input(shape=(1,), dtype=tf.string),\n",
    "#     vectorize_layer,\n",
    "#     Embedding(input_dim = vocab_size, output_dim = embedding_dim, name=\"embedding\"),\n",
    "#     GlobalAveragePooling1D(),\n",
    "#     Dense(164, activation ='relu', name='hidden_layer'),\n",
    "#     Dropout(0.2),\n",
    "#     Dense(21, activation = 'softmax')\n",
    "# ])"
   ]
  },
  {
   "cell_type": "code",
   "execution_count": 87,
   "id": "de6869fe-7975-45c7-8c98-217d78f4b3a4",
   "metadata": {
    "jupyter": {
     "source_hidden": true
    },
    "tags": []
   },
   "outputs": [],
   "source": [
    "# model_3.summary()"
   ]
  },
  {
   "cell_type": "code",
   "execution_count": 88,
   "id": "63598d86-07a5-411e-88f6-95d31482b14d",
   "metadata": {
    "jupyter": {
     "source_hidden": true
    },
    "tags": []
   },
   "outputs": [],
   "source": [
    "# model_3.compile(optimizer = tf.optimizers.Adam(),\n",
    "#               loss='mean_absolute_error',\n",
    "#               metrics=['mean_squared_error','mean_absolute_error']\n",
    "#              )"
   ]
  },
  {
   "cell_type": "code",
   "execution_count": 89,
   "id": "29769a19-8402-4db2-888a-c13a13c0a78a",
   "metadata": {
    "jupyter": {
     "source_hidden": true
    },
    "tags": []
   },
   "outputs": [],
   "source": [
    "# %%time\n",
    "# early_stopping_monitor = EarlyStopping(monitor = 'val_mean_squared_error',\n",
    "#                                        min_delta = 0,\n",
    "#                                        patience = 2,\n",
    "#                                        verbose = 0,\n",
    "#                                        restore_best_weights=True\n",
    "#                                       )"
   ]
  },
  {
   "cell_type": "code",
   "execution_count": 90,
   "id": "1306ed97-289d-488a-bfbb-7e27c92f4c14",
   "metadata": {
    "jupyter": {
     "source_hidden": true
    },
    "tags": []
   },
   "outputs": [],
   "source": [
    "# %%time\n",
    "# history_3 = model_3.fit(x = train_data['description'],\n",
    "#                     y = train_data['points'],\n",
    "#                     epochs = 20,\n",
    "#                     batch_size = 128,\n",
    "#                     verbose = 1,\n",
    "#                     callbacks = [early_stopping_monitor],\n",
    "#                     validation_data = (test_data['description'], test_data['points'])\n",
    "#                    )"
   ]
  },
  {
   "cell_type": "code",
   "execution_count": 91,
   "id": "c1b16c2e-3cf0-4378-a8e3-bb04b20afeb5",
   "metadata": {
    "jupyter": {
     "source_hidden": true
    },
    "tags": []
   },
   "outputs": [],
   "source": [
    "# test_data['dnn_3_prediction'] = model_3.predict(test_data['description'])"
   ]
  },
  {
   "cell_type": "code",
   "execution_count": 92,
   "id": "bdb950b4-7d2a-4cab-ad1a-cd899ba440e7",
   "metadata": {
    "jupyter": {
     "source_hidden": true
    },
    "tags": []
   },
   "outputs": [],
   "source": [
    "# dnn_pred_score = calc_prediction_quality(test_data, 'points', 'dnn_3_prediction')\n",
    "# dnn_pred_score"
   ]
  },
  {
   "cell_type": "markdown",
   "id": "bc0f4af1-87cc-4eb1-82b0-328c95057af6",
   "metadata": {
    "tags": []
   },
   "source": [
    "### Descriptions words concatinated"
   ]
  },
  {
   "cell_type": "markdown",
   "id": "bbd4f53b-1793-44e8-aee0-a582aabbf36a",
   "metadata": {
    "tags": []
   },
   "source": [
    "### 4.3) Using external embedding (description feature only)"
   ]
  },
  {
   "cell_type": "code",
   "execution_count": 93,
   "id": "d6b00259-2de7-41ed-b3c7-4ed5d48b888a",
   "metadata": {},
   "outputs": [],
   "source": [
    "import os\n",
    "import numpy as np"
   ]
  },
  {
   "cell_type": "markdown",
   "id": "a935201b-310e-45dc-b18f-54e9b7de2a66",
   "metadata": {},
   "source": [
    "**Load Glove pre-trained word embeddings:**"
   ]
  },
  {
   "cell_type": "code",
   "execution_count": 94,
   "id": "f2cd0913-b7d5-4f9c-845f-bfc13cef97e0",
   "metadata": {},
   "outputs": [],
   "source": [
    "file = 'data/glove.6B.100d.txt'    \n",
    "embd_index = {}"
   ]
  },
  {
   "cell_type": "code",
   "execution_count": 95,
   "id": "3dfea0f3-c653-43e2-95eb-6f007e4cda51",
   "metadata": {},
   "outputs": [],
   "source": [
    "with open (file) as f:\n",
    "    for row in f:\n",
    "        word, word_vec = row.split(maxsplit = 1)\n",
    "        word_vec = np.fromstring(word_vec, 'f', sep = ' ')\n",
    "        embd_index[word] = word_vec"
   ]
  },
  {
   "cell_type": "code",
   "execution_count": 96,
   "id": "bdfb0bf9-418e-4635-9bbb-203d5567f9cf",
   "metadata": {
    "tags": []
   },
   "outputs": [
    {
     "data": {
      "text/plain": [
       "400000"
      ]
     },
     "execution_count": 96,
     "metadata": {},
     "output_type": "execute_result"
    }
   ],
   "source": [
    "len(embd_index)"
   ]
  },
  {
   "cell_type": "code",
   "execution_count": 97,
   "id": "c64bcec0-614f-4b6f-8335-73480ac830bc",
   "metadata": {},
   "outputs": [],
   "source": [
    "vocab = vectorize_layer.get_vocabulary()\n",
    "vocab_index = dict(zip(vocab, range(len(vocab))))"
   ]
  },
  {
   "cell_type": "code",
   "execution_count": 98,
   "id": "2ca6f553-87f6-48d6-8589-a2f4ab2de80c",
   "metadata": {},
   "outputs": [],
   "source": [
    "token_len = len(vocab) + 1\n",
    "embedding_dim = 100"
   ]
  },
  {
   "cell_type": "code",
   "execution_count": 99,
   "id": "fa1172e1-3fa3-487d-ab3a-08515830dae2",
   "metadata": {},
   "outputs": [],
   "source": [
    "missing_words = []\n",
    "embedding_matrix = np.zeros((token_len, embedding_dim))\n",
    "\n",
    "for token, i in vocab_index.items():\n",
    "    embedding_vector = embd_index.get(token)\n",
    "    if embedding_vector is not None:\n",
    "        embedding_matrix[i] = embedding_vector\n",
    "    else:\n",
    "        missing_words.append(token)"
   ]
  },
  {
   "cell_type": "code",
   "execution_count": 100,
   "id": "5ef696fc-21da-44be-861a-67a5bf7145b8",
   "metadata": {},
   "outputs": [],
   "source": [
    "glove_embed_layer = Embedding(input_dim = token_len,\n",
    "                              output_dim = embedding_dim,\n",
    "                              embeddings_initializer = tf.keras.initializers.Constant(embedding_matrix),\n",
    "                              trainable = False,\n",
    "                             )"
   ]
  },
  {
   "cell_type": "code",
   "execution_count": 101,
   "id": "79001e02-1dee-4e95-9a44-6a1cd5d47500",
   "metadata": {},
   "outputs": [],
   "source": [
    "external_embd_model = Sequential([tf.keras.Input(shape = (1, ), dtype = tf.string),\n",
    "                                  vectorize_layer,\n",
    "                                  glove_embed_layer,\n",
    "                                  GlobalAveragePooling1D(),\n",
    "                                  Dense(164, activation = 'relu', name = 'hidden_layer'),\n",
    "                                  Dropout(0.2),\n",
    "                                  Dense(1, name = 'output_layer')\n",
    "                                  ])"
   ]
  },
  {
   "cell_type": "code",
   "execution_count": 102,
   "id": "1a48c6d6-690e-40d7-9b83-324418f1a2b2",
   "metadata": {},
   "outputs": [],
   "source": [
    "external_embd_model.compile(loss = 'mse',\n",
    "                            optimizer = tf.optimizers.Adam(learning_rate = 0.001),\n",
    "                            metrics = ['mean_squared_error', 'mean_absolute_error']\n",
    "                           )"
   ]
  },
  {
   "cell_type": "code",
   "execution_count": 103,
   "id": "6438f1a9-a34e-41d7-b26c-35c3f28af5c2",
   "metadata": {},
   "outputs": [],
   "source": [
    "early_stopping_monitor = EarlyStopping(monitor = 'val_loss',\n",
    "                                       min_delta = 0,\n",
    "                                       patience = 3,\n",
    "                                       verbose = 0,\n",
    "                                       restore_best_weights=True\n",
    "                                      )"
   ]
  },
  {
   "cell_type": "code",
   "execution_count": 104,
   "id": "b5a6d58d-5238-48d5-809e-fed02ad4beec",
   "metadata": {},
   "outputs": [
    {
     "name": "stdout",
     "output_type": "stream",
     "text": [
      "Epoch 1/20\n",
      "750/750 [==============================] - 3s 3ms/step - loss: 1593.3322 - mean_squared_error: 1593.3322 - mean_absolute_error: 29.5338 - val_loss: 273.2693 - val_mean_squared_error: 273.2693 - val_mean_absolute_error: 13.1828\n",
      "Epoch 2/20\n",
      "750/750 [==============================] - 2s 3ms/step - loss: 243.8354 - mean_squared_error: 243.8354 - mean_absolute_error: 12.4486 - val_loss: 175.5573 - val_mean_squared_error: 175.5573 - val_mean_absolute_error: 10.5302\n",
      "Epoch 3/20\n",
      "750/750 [==============================] - 2s 3ms/step - loss: 146.6405 - mean_squared_error: 146.6405 - mean_absolute_error: 9.5998 - val_loss: 76.2832 - val_mean_squared_error: 76.2832 - val_mean_absolute_error: 6.9296\n",
      "Epoch 4/20\n",
      "750/750 [==============================] - 2s 3ms/step - loss: 61.9973 - mean_squared_error: 61.9973 - mean_absolute_error: 6.1772 - val_loss: 16.7309 - val_mean_squared_error: 16.7309 - val_mean_absolute_error: 3.2095\n",
      "Epoch 5/20\n",
      "750/750 [==============================] - 2s 3ms/step - loss: 31.3166 - mean_squared_error: 31.3166 - mean_absolute_error: 4.4275 - val_loss: 6.7579 - val_mean_squared_error: 6.7579 - val_mean_absolute_error: 2.0315\n",
      "Epoch 6/20\n",
      "750/750 [==============================] - 2s 3ms/step - loss: 27.7514 - mean_squared_error: 27.7514 - mean_absolute_error: 4.1951 - val_loss: 5.9607 - val_mean_squared_error: 5.9607 - val_mean_absolute_error: 1.9138\n",
      "Epoch 7/20\n",
      "750/750 [==============================] - 2s 3ms/step - loss: 26.4333 - mean_squared_error: 26.4333 - mean_absolute_error: 4.0946 - val_loss: 6.1673 - val_mean_squared_error: 6.1673 - val_mean_absolute_error: 1.9580\n",
      "Epoch 8/20\n",
      "750/750 [==============================] - 2s 3ms/step - loss: 25.8828 - mean_squared_error: 25.8828 - mean_absolute_error: 4.0529 - val_loss: 5.3360 - val_mean_squared_error: 5.3360 - val_mean_absolute_error: 1.8171\n",
      "Epoch 9/20\n",
      "750/750 [==============================] - 2s 3ms/step - loss: 25.5316 - mean_squared_error: 25.5316 - mean_absolute_error: 4.0279 - val_loss: 5.5453 - val_mean_squared_error: 5.5453 - val_mean_absolute_error: 1.8569\n",
      "Epoch 10/20\n",
      "750/750 [==============================] - 2s 3ms/step - loss: 25.2128 - mean_squared_error: 25.2128 - mean_absolute_error: 4.0058 - val_loss: 5.2427 - val_mean_squared_error: 5.2427 - val_mean_absolute_error: 1.8070\n",
      "Epoch 11/20\n",
      "750/750 [==============================] - 2s 3ms/step - loss: 24.7867 - mean_squared_error: 24.7867 - mean_absolute_error: 3.9708 - val_loss: 5.0616 - val_mean_squared_error: 5.0616 - val_mean_absolute_error: 1.7797\n",
      "Epoch 12/20\n",
      "750/750 [==============================] - 2s 3ms/step - loss: 24.6419 - mean_squared_error: 24.6419 - mean_absolute_error: 3.9521 - val_loss: 4.9676 - val_mean_squared_error: 4.9676 - val_mean_absolute_error: 1.7632\n",
      "Epoch 13/20\n",
      "750/750 [==============================] - 2s 3ms/step - loss: 24.2267 - mean_squared_error: 24.2267 - mean_absolute_error: 3.9225 - val_loss: 4.9078 - val_mean_squared_error: 4.9078 - val_mean_absolute_error: 1.7553\n",
      "Epoch 14/20\n",
      "750/750 [==============================] - 2s 3ms/step - loss: 24.1737 - mean_squared_error: 24.1737 - mean_absolute_error: 3.9130 - val_loss: 5.1630 - val_mean_squared_error: 5.1630 - val_mean_absolute_error: 1.7945\n",
      "Epoch 15/20\n",
      "750/750 [==============================] - 2s 3ms/step - loss: 23.7190 - mean_squared_error: 23.7190 - mean_absolute_error: 3.8821 - val_loss: 5.0379 - val_mean_squared_error: 5.0379 - val_mean_absolute_error: 1.7733\n",
      "Epoch 16/20\n",
      "750/750 [==============================] - 2s 3ms/step - loss: 23.8228 - mean_squared_error: 23.8228 - mean_absolute_error: 3.8851 - val_loss: 4.8474 - val_mean_squared_error: 4.8474 - val_mean_absolute_error: 1.7477\n",
      "Epoch 17/20\n",
      "750/750 [==============================] - 2s 3ms/step - loss: 23.7776 - mean_squared_error: 23.7776 - mean_absolute_error: 3.8870 - val_loss: 4.9816 - val_mean_squared_error: 4.9816 - val_mean_absolute_error: 1.7607\n",
      "Epoch 18/20\n",
      "750/750 [==============================] - 2s 3ms/step - loss: 23.4640 - mean_squared_error: 23.4640 - mean_absolute_error: 3.8604 - val_loss: 4.8171 - val_mean_squared_error: 4.8171 - val_mean_absolute_error: 1.7432\n",
      "Epoch 19/20\n",
      "750/750 [==============================] - 2s 3ms/step - loss: 23.3617 - mean_squared_error: 23.3617 - mean_absolute_error: 3.8480 - val_loss: 5.2571 - val_mean_squared_error: 5.2571 - val_mean_absolute_error: 1.8106\n",
      "Epoch 20/20\n",
      "750/750 [==============================] - 3s 4ms/step - loss: 23.2172 - mean_squared_error: 23.2172 - mean_absolute_error: 3.8367 - val_loss: 4.8531 - val_mean_squared_error: 4.8531 - val_mean_absolute_error: 1.7431\n"
     ]
    }
   ],
   "source": [
    "history = external_embd_model.fit(bow_df_train['clean_description'],\n",
    "                                  train_data['points'],\n",
    "                                  epochs = 20,\n",
    "                                  batch_size = 128,\n",
    "                                  verbose = 1,  \n",
    "                                  callbacks = [early_stopping_monitor],\n",
    "                                  validation_data = (bow_df_test['clean_description'], test_data['points'])\n",
    "                                 )"
   ]
  },
  {
   "cell_type": "code",
   "execution_count": 105,
   "id": "8746a583-cf03-448b-844b-103421d76243",
   "metadata": {},
   "outputs": [],
   "source": [
    "test_data['external_embed_model_pred'] = external_embd_model.predict(bow_df_test['clean_description'])"
   ]
  },
  {
   "cell_type": "code",
   "execution_count": 106,
   "id": "8c56dd43-b5a3-47f7-91b0-ffdc65218e84",
   "metadata": {},
   "outputs": [
    {
     "data": {
      "text/plain": [
       "MSE    4.853125\n",
       "MAE    1.743101\n",
       "R2     0.491438\n",
       "dtype: float64"
      ]
     },
     "execution_count": 106,
     "metadata": {},
     "output_type": "execute_result"
    }
   ],
   "source": [
    "external_embed_model_pred_score = calc_prediction_quality(test_data, 'points', 'external_embed_model_pred')\n",
    "external_embed_model_pred_score"
   ]
  },
  {
   "cell_type": "code",
   "execution_count": 107,
   "id": "b5ff1003-2ee9-4694-a825-a6a557dba5a2",
   "metadata": {},
   "outputs": [
    {
     "data": {
      "text/html": [
       "<div>\n",
       "<style scoped>\n",
       "    .dataframe tbody tr th:only-of-type {\n",
       "        vertical-align: middle;\n",
       "    }\n",
       "\n",
       "    .dataframe tbody tr th {\n",
       "        vertical-align: top;\n",
       "    }\n",
       "\n",
       "    .dataframe thead th {\n",
       "        text-align: right;\n",
       "    }\n",
       "</style>\n",
       "<table border=\"1\" class=\"dataframe\">\n",
       "  <thead>\n",
       "    <tr style=\"text-align: right;\">\n",
       "      <th></th>\n",
       "      <th>MSE</th>\n",
       "      <th>MAE</th>\n",
       "      <th>R2</th>\n",
       "    </tr>\n",
       "  </thead>\n",
       "  <tbody>\n",
       "    <tr>\n",
       "      <th>baseline_1_score</th>\n",
       "      <td>9.542911</td>\n",
       "      <td>2.532531</td>\n",
       "      <td>-0.000007</td>\n",
       "    </tr>\n",
       "    <tr>\n",
       "      <th>baseline_2_score</th>\n",
       "      <td>9.037190</td>\n",
       "      <td>2.459464</td>\n",
       "      <td>0.052987</td>\n",
       "    </tr>\n",
       "    <tr>\n",
       "      <th>baseline_3_score</th>\n",
       "      <td>8.491592</td>\n",
       "      <td>2.363831</td>\n",
       "      <td>0.110161</td>\n",
       "    </tr>\n",
       "    <tr>\n",
       "      <th>gbc_clf_score</th>\n",
       "      <td>6.329152</td>\n",
       "      <td>1.908034</td>\n",
       "      <td>0.336764</td>\n",
       "    </tr>\n",
       "    <tr>\n",
       "      <th>bow_linear_reg_score</th>\n",
       "      <td>3.070415</td>\n",
       "      <td>1.373518</td>\n",
       "      <td>0.678249</td>\n",
       "    </tr>\n",
       "    <tr>\n",
       "      <th>expanded_bow_linear_reg</th>\n",
       "      <td>2.912889</td>\n",
       "      <td>1.334171</td>\n",
       "      <td>0.694757</td>\n",
       "    </tr>\n",
       "    <tr>\n",
       "      <th>expanded_bow_ridge_reg_pred</th>\n",
       "      <td>2.887676</td>\n",
       "      <td>1.328582</td>\n",
       "      <td>0.697399</td>\n",
       "    </tr>\n",
       "    <tr>\n",
       "      <th>dnn_pred</th>\n",
       "      <td>158.636274</td>\n",
       "      <td>10.176998</td>\n",
       "      <td>-15.623592</td>\n",
       "    </tr>\n",
       "    <tr>\n",
       "      <th>embedding_pred_score</th>\n",
       "      <td>3.778059</td>\n",
       "      <td>1.527535</td>\n",
       "      <td>0.604095</td>\n",
       "    </tr>\n",
       "    <tr>\n",
       "      <th>external_embd_model</th>\n",
       "      <td>4.853125</td>\n",
       "      <td>1.743101</td>\n",
       "      <td>0.491438</td>\n",
       "    </tr>\n",
       "  </tbody>\n",
       "</table>\n",
       "</div>"
      ],
      "text/plain": [
       "                                    MSE        MAE         R2\n",
       "baseline_1_score               9.542911   2.532531  -0.000007\n",
       "baseline_2_score               9.037190   2.459464   0.052987\n",
       "baseline_3_score               8.491592   2.363831   0.110161\n",
       "gbc_clf_score                  6.329152   1.908034   0.336764\n",
       "bow_linear_reg_score           3.070415   1.373518   0.678249\n",
       "expanded_bow_linear_reg        2.912889   1.334171   0.694757\n",
       "expanded_bow_ridge_reg_pred    2.887676   1.328582   0.697399\n",
       "dnn_pred                     158.636274  10.176998 -15.623592\n",
       "embedding_pred_score           3.778059   1.527535   0.604095\n",
       "external_embd_model            4.853125   1.743101   0.491438"
      ]
     },
     "execution_count": 107,
     "metadata": {},
     "output_type": "execute_result"
    }
   ],
   "source": [
    "all_compared = all_compared.append(external_embed_model_pred_score.to_frame(name = 'external_embd_model').transpose())\n",
    "all_compared"
   ]
  },
  {
   "cell_type": "markdown",
   "id": "b158670b-ca64-4d78-beb4-9df0a22b5d84",
   "metadata": {},
   "source": [
    "### 4.4) LSTM\n",
    "description feature only"
   ]
  },
  {
   "cell_type": "code",
   "execution_count": 108,
   "id": "76258a04-992e-42fb-9a3b-6e05add2ef25",
   "metadata": {},
   "outputs": [],
   "source": [
    "from keras.layers import LSTM, Bidirectional"
   ]
  },
  {
   "cell_type": "code",
   "execution_count": 109,
   "id": "6b0e112d-8426-4c11-8bd3-f4ebb9c308c8",
   "metadata": {},
   "outputs": [],
   "source": [
    "train_data['clean_description'] = bow_df_train.clean_description\n",
    "test_data['clean_description'] = bow_df_test.clean_description"
   ]
  },
  {
   "cell_type": "code",
   "execution_count": 110,
   "id": "c821bec0-a643-4c85-aae4-40e75e55a951",
   "metadata": {},
   "outputs": [],
   "source": [
    "lstm_model =  Sequential([tf.keras.Input(shape = (1, ), dtype = tf.string),\n",
    "                          vectorize_layer,\n",
    "                          Embedding(input_dim = vocab_size + 1, output_dim = 16, input_length = sequence_length, name = \"embedding\", mask_zero = True),\n",
    "                          Bidirectional(LSTM(64)),\n",
    "                          Dense(164, activation = 'relu', name = 'hidden_layer'),\n",
    "                          Dense(1, activation = 'linear', name = 'output_layer')\n",
    "                         ])"
   ]
  },
  {
   "cell_type": "code",
   "execution_count": 111,
   "id": "b94e2458-a5b0-47df-967c-7fd3ead6484b",
   "metadata": {},
   "outputs": [],
   "source": [
    "optimizer = Adam(learning_rate = 0.001)\n",
    "\n",
    "lstm_model.compile(optimizer = optimizer,\n",
    "                   loss = 'mse',\n",
    "                   metrics = ['mean_squared_error','mean_absolute_error']\n",
    "                  )"
   ]
  },
  {
   "cell_type": "code",
   "execution_count": 112,
   "id": "5728ba78-f62e-46f4-8820-a81d5b8e24cb",
   "metadata": {},
   "outputs": [
    {
     "name": "stdout",
     "output_type": "stream",
     "text": [
      "Model: \"sequential_3\"\n",
      "_________________________________________________________________\n",
      " Layer (type)                Output Shape              Param #   \n",
      "=================================================================\n",
      " Text_processing (TextVector  (None, 72)               0         \n",
      " ization)                                                        \n",
      "                                                                 \n",
      " embedding (Embedding)       (None, 72, 16)            656176    \n",
      "                                                                 \n",
      " bidirectional (Bidirectiona  (None, 128)              41472     \n",
      " l)                                                              \n",
      "                                                                 \n",
      " hidden_layer (Dense)        (None, 164)               21156     \n",
      "                                                                 \n",
      " output_layer (Dense)        (None, 1)                 165       \n",
      "                                                                 \n",
      "=================================================================\n",
      "Total params: 718,969\n",
      "Trainable params: 718,969\n",
      "Non-trainable params: 0\n",
      "_________________________________________________________________\n"
     ]
    }
   ],
   "source": [
    "lstm_model.summary()"
   ]
  },
  {
   "cell_type": "code",
   "execution_count": 113,
   "id": "170f2580-912f-400c-969d-df6cd2ed1850",
   "metadata": {},
   "outputs": [
    {
     "name": "stdout",
     "output_type": "stream",
     "text": [
      "Epoch 1/20\n",
      "750/750 [==============================] - 76s 95ms/step - loss: 311.5043 - mean_squared_error: 311.5043 - mean_absolute_error: 6.6149 - val_loss: 10.6757 - val_mean_squared_error: 10.6757 - val_mean_absolute_error: 2.5355\n",
      "Epoch 2/20\n",
      "750/750 [==============================] - 67s 90ms/step - loss: 9.3568 - mean_squared_error: 9.3568 - mean_absolute_error: 2.4361 - val_loss: 8.9626 - val_mean_squared_error: 8.9626 - val_mean_absolute_error: 2.2813\n",
      "Epoch 3/20\n",
      "750/750 [==============================] - 67s 90ms/step - loss: 7.3805 - mean_squared_error: 7.3805 - mean_absolute_error: 2.1196 - val_loss: 7.0848 - val_mean_squared_error: 7.0848 - val_mean_absolute_error: 1.9733\n",
      "Epoch 4/20\n",
      "750/750 [==============================] - 68s 90ms/step - loss: 4.0644 - mean_squared_error: 4.0644 - mean_absolute_error: 1.5526 - val_loss: 4.2393 - val_mean_squared_error: 4.2393 - val_mean_absolute_error: 1.4870\n",
      "Epoch 5/20\n",
      "750/750 [==============================] - 68s 91ms/step - loss: 2.7435 - mean_squared_error: 2.7435 - mean_absolute_error: 1.2840 - val_loss: 4.1349 - val_mean_squared_error: 4.1349 - val_mean_absolute_error: 1.5035\n",
      "Epoch 6/20\n",
      "750/750 [==============================] - 68s 91ms/step - loss: 2.3549 - mean_squared_error: 2.3549 - mean_absolute_error: 1.1906 - val_loss: 3.3499 - val_mean_squared_error: 3.3499 - val_mean_absolute_error: 1.3373\n",
      "Epoch 7/20\n",
      "750/750 [==============================] - 1969s 3s/step - loss: 2.1372 - mean_squared_error: 2.1372 - mean_absolute_error: 1.1332 - val_loss: 3.3010 - val_mean_squared_error: 3.3010 - val_mean_absolute_error: 1.3336\n",
      "Epoch 8/20\n",
      "750/750 [==============================] - 136s 181ms/step - loss: 2.0377 - mean_squared_error: 2.0377 - mean_absolute_error: 1.0971 - val_loss: 3.3023 - val_mean_squared_error: 3.3023 - val_mean_absolute_error: 1.3487\n",
      "Epoch 9/20\n",
      "750/750 [==============================] - 1054s 1s/step - loss: 1.8784 - mean_squared_error: 1.8784 - mean_absolute_error: 1.0558 - val_loss: 3.3476 - val_mean_squared_error: 3.3476 - val_mean_absolute_error: 1.3605\n",
      "Epoch 10/20\n",
      "750/750 [==============================] - 73s 97ms/step - loss: 1.7253 - mean_squared_error: 1.7253 - mean_absolute_error: 1.0083 - val_loss: 3.2141 - val_mean_squared_error: 3.2141 - val_mean_absolute_error: 1.3341\n",
      "Epoch 11/20\n",
      "750/750 [==============================] - 76s 101ms/step - loss: 1.6551 - mean_squared_error: 1.6551 - mean_absolute_error: 0.9845 - val_loss: 3.2239 - val_mean_squared_error: 3.2239 - val_mean_absolute_error: 1.3389\n",
      "Epoch 12/20\n",
      "750/750 [==============================] - 74s 98ms/step - loss: 1.5817 - mean_squared_error: 1.5817 - mean_absolute_error: 0.9618 - val_loss: 3.3762 - val_mean_squared_error: 3.3762 - val_mean_absolute_error: 1.3708\n",
      "Epoch 13/20\n",
      "750/750 [==============================] - 69s 92ms/step - loss: 1.4585 - mean_squared_error: 1.4585 - mean_absolute_error: 0.9167 - val_loss: 3.3194 - val_mean_squared_error: 3.3194 - val_mean_absolute_error: 1.3623\n"
     ]
    }
   ],
   "source": [
    "lstm_history = lstm_model.fit(x = train_data['clean_description'],\n",
    "                         y = train_data['points'],\n",
    "                         epochs = 20,\n",
    "                         batch_size = 128,\n",
    "                         verbose = 1,\n",
    "                         callbacks = [early_stopping_monitor],\n",
    "                         validation_data = (test_data['clean_description'], test_data['points'])\n",
    "                        )"
   ]
  },
  {
   "cell_type": "code",
   "execution_count": 136,
   "id": "5c956a5c-d17e-42d9-aee7-dfbc21a8650a",
   "metadata": {},
   "outputs": [],
   "source": [
    "test_data['lstm_pred'] = lstm_model.predict(test_data['clean_description'])"
   ]
  },
  {
   "cell_type": "code",
   "execution_count": 137,
   "id": "cb0a0a4f-dabe-4af9-908d-c7d5ff28066d",
   "metadata": {},
   "outputs": [
    {
     "data": {
      "text/plain": [
       "MSE    3.214080\n",
       "MAE    1.334126\n",
       "R2     0.663195\n",
       "dtype: float64"
      ]
     },
     "execution_count": 137,
     "metadata": {},
     "output_type": "execute_result"
    }
   ],
   "source": [
    "lstm_pred_score = calc_prediction_quality(test_data, 'points', 'lstm_pred')\n",
    "lstm_pred_score"
   ]
  },
  {
   "cell_type": "code",
   "execution_count": 143,
   "id": "2831ca64-c899-4c62-bd0c-66ff7ad32893",
   "metadata": {},
   "outputs": [
    {
     "data": {
      "text/html": [
       "<div>\n",
       "<style scoped>\n",
       "    .dataframe tbody tr th:only-of-type {\n",
       "        vertical-align: middle;\n",
       "    }\n",
       "\n",
       "    .dataframe tbody tr th {\n",
       "        vertical-align: top;\n",
       "    }\n",
       "\n",
       "    .dataframe thead th {\n",
       "        text-align: right;\n",
       "    }\n",
       "</style>\n",
       "<table border=\"1\" class=\"dataframe\">\n",
       "  <thead>\n",
       "    <tr style=\"text-align: right;\">\n",
       "      <th></th>\n",
       "      <th>MSE</th>\n",
       "      <th>MAE</th>\n",
       "      <th>R2</th>\n",
       "    </tr>\n",
       "  </thead>\n",
       "  <tbody>\n",
       "    <tr>\n",
       "      <th>baseline_1_score</th>\n",
       "      <td>9.542911</td>\n",
       "      <td>2.532531</td>\n",
       "      <td>-0.000007</td>\n",
       "    </tr>\n",
       "    <tr>\n",
       "      <th>baseline_2_score</th>\n",
       "      <td>9.037190</td>\n",
       "      <td>2.459464</td>\n",
       "      <td>0.052987</td>\n",
       "    </tr>\n",
       "    <tr>\n",
       "      <th>baseline_3_score</th>\n",
       "      <td>8.491592</td>\n",
       "      <td>2.363831</td>\n",
       "      <td>0.110161</td>\n",
       "    </tr>\n",
       "    <tr>\n",
       "      <th>gbc_clf_score</th>\n",
       "      <td>6.329152</td>\n",
       "      <td>1.908034</td>\n",
       "      <td>0.336764</td>\n",
       "    </tr>\n",
       "    <tr>\n",
       "      <th>bow_linear_reg_score</th>\n",
       "      <td>3.070415</td>\n",
       "      <td>1.373518</td>\n",
       "      <td>0.678249</td>\n",
       "    </tr>\n",
       "    <tr>\n",
       "      <th>expanded_bow_linear_reg</th>\n",
       "      <td>2.912889</td>\n",
       "      <td>1.334171</td>\n",
       "      <td>0.694757</td>\n",
       "    </tr>\n",
       "    <tr>\n",
       "      <th>expanded_bow_ridge_reg_pred</th>\n",
       "      <td>2.887676</td>\n",
       "      <td>1.328582</td>\n",
       "      <td>0.697399</td>\n",
       "    </tr>\n",
       "    <tr>\n",
       "      <th>dnn_pred</th>\n",
       "      <td>158.636274</td>\n",
       "      <td>10.176998</td>\n",
       "      <td>-15.623592</td>\n",
       "    </tr>\n",
       "    <tr>\n",
       "      <th>embedding_pred_score</th>\n",
       "      <td>3.778059</td>\n",
       "      <td>1.527535</td>\n",
       "      <td>0.604095</td>\n",
       "    </tr>\n",
       "    <tr>\n",
       "      <th>external_embd_model</th>\n",
       "      <td>4.853125</td>\n",
       "      <td>1.743101</td>\n",
       "      <td>0.491438</td>\n",
       "    </tr>\n",
       "  </tbody>\n",
       "</table>\n",
       "</div>"
      ],
      "text/plain": [
       "                                    MSE        MAE         R2\n",
       "baseline_1_score               9.542911   2.532531  -0.000007\n",
       "baseline_2_score               9.037190   2.459464   0.052987\n",
       "baseline_3_score               8.491592   2.363831   0.110161\n",
       "gbc_clf_score                  6.329152   1.908034   0.336764\n",
       "bow_linear_reg_score           3.070415   1.373518   0.678249\n",
       "expanded_bow_linear_reg        2.912889   1.334171   0.694757\n",
       "expanded_bow_ridge_reg_pred    2.887676   1.328582   0.697399\n",
       "dnn_pred                     158.636274  10.176998 -15.623592\n",
       "embedding_pred_score           3.778059   1.527535   0.604095\n",
       "external_embd_model            4.853125   1.743101   0.491438"
      ]
     },
     "execution_count": 143,
     "metadata": {},
     "output_type": "execute_result"
    }
   ],
   "source": [
    "all_compared.append(lstm_pred_score.to_frame(name = 'lstm').transpose())\n",
    "all_compared"
   ]
  },
  {
   "cell_type": "markdown",
   "id": "52647518-e026-4adf-9706-925bc22c7b21",
   "metadata": {},
   "source": [
    "# 5) Save the results"
   ]
  },
  {
   "cell_type": "code",
   "execution_count": 157,
   "id": "4dba599f-5b39-4b0e-9684-d504aea38440",
   "metadata": {},
   "outputs": [],
   "source": [
    "all_compared.sort_values(by = 'MAE').to_csv('data/all_models_compared.csv', index = True)"
   ]
  }
 ],
 "metadata": {
  "kernelspec": {
   "display_name": "Python 3 (ipykernel)",
   "language": "python",
   "name": "python3"
  },
  "language_info": {
   "codemirror_mode": {
    "name": "ipython",
    "version": 3
   },
   "file_extension": ".py",
   "mimetype": "text/x-python",
   "name": "python",
   "nbconvert_exporter": "python",
   "pygments_lexer": "ipython3",
   "version": "3.9.7"
  }
 },
 "nbformat": 4,
 "nbformat_minor": 5
}
